{
 "cells": [
  {
   "cell_type": "markdown",
   "id": "cad35377",
   "metadata": {},
   "source": [
    "# Problème Monty Hall et Simulation de Distributions "
   ]
  },
  {
   "cell_type": "markdown",
   "id": "628ecfb5",
   "metadata": {},
   "source": [
    "## Problème *Monty Hall* avec Simulation Monte-Carlo"
   ]
  },
  {
   "cell_type": "markdown",
   "id": "a7b871a8",
   "metadata": {},
   "source": [
    "Il existe un casse-tête probabiliste [*le problème de Monty Hall*](https://fr.wikipedia.org/wiki/Probl%C3%A8me_de_Monty_Hall) aussi appelé *paradoxe de Monty Hall*, inspiré du jeu télévisé américain [*Let's Make a Deal*](https://fr.wikipedia.org/wiki/Let%27s_Make_a_Deal) présenté par [Monty Hall](https://fr.wikipedia.org/wiki/Monty_Hall). \n",
    "\n",
    "Le problème peut être formulé de la façon suivante: \n",
    "\n",
    "La personne est placée devant trois portes fermées.\n",
    "\n",
    "<img src=\"img/3-doors.png\" alt=\"Trois portes fermées\" width=\"400px\">\n",
    "\n",
    "Derrière une porte se trouve un prix et derrière deux autres une chèvre. \n",
    "\n",
    "La personne choisit une porte qui reste fermée :\n",
    "\n",
    "<img src=\"img/choice-1.png\" alt=\"1er choix d'une porte\" width=\"400px\">\n",
    "\n",
    "Le.a présentateur.rice, qui sait ce qu'il y a derrière chaque porte, ouvre une des portes qui restent derrière laquelle se trouve une chèvre :\n",
    "\n",
    "<img src=\"img/goat-revealed.png\" alt=\"Une chèvre est dévoilée derrière une des portes\" width=\"400px\">\n",
    "\n",
    "La personne a alors le choix : soit ouvrir la porte choisie initiallement, soit ouvrir une autre porte (i.e. changer son avis).  \n",
    "<img src=\"img/question.png\" alt=\"Quelle porte choisir?\" width=\"620px\">\n",
    "\n",
    "> A la personne intérêt à changer son choix initial ? \n",
    "\n",
    "> Quelles sont ses chances de gagner le prix en agissant au mieux ?\n",
    "\n",
    "<img style=\"float: right;\" src=\"https://allthatsinteresting.com/wordpress/wp-content/uploads/2018/03/portrait-of-marilyn-vos-savant.jpg\" alt=\"Marilyn Vos Savant's portrait, source: allthatsinteresting.com, under Wikimedia Commons license\" width=\"150px\"> Ce problème est devenu connu par le grand public grâce à [Marilyn vos Savant](https://fr.wikipedia.org/wiki/Marilyn_vos_Savant), une femme possédant l'un des quotients intellectuels les plus élevés au monde, indiqué par le *Guiness Book of records*. Elle publie l'énoncé et sa réponse dans sa rubrique *Ask Marilyn* de Parade Magazine en septembre 1990 :\n",
    "\n",
    "*Suppose you're on a game show, and you're given the choice of three doors: Behind one door is a car; behind the others, goats. You pick a door, say No. 1, and the host, who knows what's behind the doors, opens another door, say No. 3, which has a goat. He then says to you, \" Do you want to pick door No. 2? \" Is it to your advantage to switch your choice?*\n",
    "\n",
    "Afin de répondre à cette question, nous allons d'abord approcher ce problème de point de vue probabiliste, et ensuite nous allons faire une simulation."
   ]
  },
  {
   "cell_type": "markdown",
   "id": "110784c1",
   "metadata": {},
   "source": [
    "### Approche probabiliste"
   ]
  },
  {
   "cell_type": "markdown",
   "id": "de6d3eda",
   "metadata": {},
   "source": [
    "Soit $A = \\text{\\{la personne gagne le prix\\}}$ et $B = \\text{\\{la personne a choisi la bonne porte\\}}$. Alors, selon la formule de probabilité totale :\n",
    "\n",
    "$$\\mathbb{P}(A) = \\mathbb{P}(A|B)\\times \\mathbb{P}(B) + \\mathbb{P}(A|\\bar{B})\\times \\mathbb{P}(\\bar{B})$$\n",
    "\n",
    "Notons que la probabilité que la personne a choisi la bonne porte, $\\mathbb{P}(B) = \\frac{1}{3}$ lorsqu'il y a un seul prix derrière 3 portes. Et $\\mathbb{P}(\\bar{B}) = \\frac{2}{3}$. Ainsi, nous obtenons : \n",
    "\n",
    "$$\\mathbb{P}(A) = \\mathbb{P}(A|B)\\times \\mathbb{P}(B) + \\mathbb{P}(A|\\bar{B})\\times \\mathbb{P}(\\bar{B}) = \\mathbb{P}(A|B)\\times \\frac{1}{3} + \\mathbb{P}(A|\\bar{B})\\times \\frac{2}{3}$$\n",
    "\n",
    "Considérons le cas, où **la personne garde son choix initial** :\n",
    "\n",
    "* la probabilité de gagner sachant que la porte choisie est bonne est 1, i.e. $\\mathbb{P}(A|B) = 1$\n",
    "* la probabilité de gagner sachant que la porte choisie n'est pas bonne est 0, i.e. $\\mathbb{P}(A|\\bar{B}) = 0$\n",
    "\n",
    "Dans ce cas là : \n",
    "$$\\mathbb{P}(A) = \\mathbb{P}(A|B)\\times \\mathbb{P}(B) + \\mathbb{P}(A|\\bar{B})\\times \\mathbb{P}(\\bar{B}) = \\mathbb{P}(A|B)\\times \\frac{1}{3} + \\mathbb{P}(A|\\bar{B})\\times \\frac{2}{3} = 1\\times \\frac{1}{3} + 0\\times \\frac{2}{3} = \\mathbf{\\frac{1}{3}}$$\n",
    "\n",
    "<img src=\"img/tree-remain-initial-choice.png\" alt=\"Arbre des probabilités si la stratégie est de garder le choix initial\" width=\"620px\">\n",
    "\n",
    "\n",
    "\n",
    "Maintenant, considérons le cas où **la personne change son avis** :\n",
    "\n",
    "* si la personne a choisi initialement une bonne porte, la probabilité de gagner si elle change par la suite est 0, i.e. $\\mathbb{P}(A|B) = 0$\n",
    "* si la personne a choisi initialement une bonne porte, la probabilité de gagner si elle change par la suite est 1, i.e. $\\mathbb{P}(A|\\hat{B}) = 1$.\n",
    "\n",
    "Donc : \n",
    "$$\\mathbb{P}(A) = \\mathbb{P}(A|B)\\times \\mathbb{P}(B) + \\mathbb{P}(A|\\bar{B})\\times \\mathbb{P}(\\bar{B}) = \\mathbb{P}(A|B)\\times \\frac{1}{3} + \\mathbb{P}(A|\\bar{B})\\times \\frac{2}{3} = 0\\times \\frac{1}{3} + 1\\times \\frac{2}{3} = \\mathbf{\\frac{2}{3}}$$\n",
    "\n",
    "<img src=\"img/tree.png\" alt=\"Arbre des probabilités si la stratégie est de changer le choix initial\" width=\"620px\">\n",
    "\n",
    "Autrement dit, initialement les probabilités de gagner se répartissent de la façon suivante :\n",
    "\n",
    "<img src=\"img/doors-prob.png\" alt=\"Probabilité de gagner initialement\" width=\"400px\">\n",
    "\n",
    "Une fois qu'une chèvre est dévoilée, la probabilité de gagner se répartit de la façon suivante :\n",
    "\n",
    "<img src=\"img/doors-prob-goat.png\" alt=\"Probabilité de gagner initialement\" width=\"400px\">\n"
   ]
  },
  {
   "cell_type": "markdown",
   "id": "b5280371",
   "metadata": {},
   "source": [
    "### Simulation"
   ]
  },
  {
   "cell_type": "markdown",
   "id": "23ad8d26",
   "metadata": {},
   "source": [
    "Vérifions le raisonement ci-dessous avec une simulation. \n",
    "\n",
    "Nous allons avoir besoin de générateur de pseudo-aléatoire. Nous pouvons utiliser le module [`random`](https://docs.python.org/3/library/random.html)."
   ]
  },
  {
   "cell_type": "code",
   "execution_count": 1,
   "id": "2202678f",
   "metadata": {
    "ExecuteTime": {
     "end_time": "2023-03-13T01:23:06.452411Z",
     "start_time": "2023-03-13T01:23:06.432497Z"
    }
   },
   "outputs": [],
   "source": [
    "# chargement du module de générateur de nombre pseudo-aléatoires\n",
    "from random import randint, choice "
   ]
  },
  {
   "cell_type": "markdown",
   "id": "50c8b695",
   "metadata": {},
   "source": [
    "Afin de choisir un nombre entier $N$ compris entre $a$ et $b$ (i.e. $a \\leq N \\leq b$), on peut utiliser la fonction [`random.randint(a, b)`](https://docs.python.org/3/library/random.html#random.randint), e.g. :"
   ]
  },
  {
   "cell_type": "code",
   "execution_count": 2,
   "id": "11cd703f",
   "metadata": {
    "ExecuteTime": {
     "end_time": "2023-03-13T01:23:06.468403Z",
     "start_time": "2023-03-13T01:23:06.453441Z"
    }
   },
   "outputs": [
    {
     "data": {
      "text/plain": [
       "2"
      ]
     },
     "execution_count": 2,
     "metadata": {},
     "output_type": "execute_result"
    }
   ],
   "source": [
    "# choisir un nombre entre 1 et 6\n",
    "randint(1, 6)"
   ]
  },
  {
   "cell_type": "markdown",
   "id": "d250015b",
   "metadata": {},
   "source": [
    "Afin de choisi un élément d'une séquence `s` d'une manière aléatoire, on peut utiliser la fonction [`random.choice()`](https://docs.python.org/3/library/random.html#random.choice), e.g.:"
   ]
  },
  {
   "cell_type": "code",
   "execution_count": 3,
   "id": "ce316d15",
   "metadata": {
    "ExecuteTime": {
     "end_time": "2023-03-13T01:23:06.483363Z",
     "start_time": "2023-03-13T01:23:06.470390Z"
    }
   },
   "outputs": [
    {
     "data": {
      "text/plain": [
       "'a'"
      ]
     },
     "execution_count": 3,
     "metadata": {},
     "output_type": "execute_result"
    }
   ],
   "source": [
    "# liste (séquence d'éléments)\n",
    "s = ['a', 'b', 'c']\n",
    "# choisir un élément\n",
    "choice(s)"
   ]
  },
  {
   "cell_type": "markdown",
   "id": "940f41f3",
   "metadata": {},
   "source": [
    "#### Exemple de simulation (lancements d'un dé)"
   ]
  },
  {
   "cell_type": "markdown",
   "id": "e2a88c15",
   "metadata": {},
   "source": [
    "Imaginons que le problème traité est le suivant. Nous lancons un dé équilibré 6 fois. Ce qui nous intéresse est la probabilité d'avoir 6 valeurs différentes lors de ces lancements. \n",
    "\n",
    "De point de vue probabiliste, cette probabilité est égale à :\n",
    "\n",
    "$$\\frac{6}{6} \\times \\frac{5}{6} \\times \\frac{4}{6} \\times \\frac{3}{6} \\times \\frac{2}{6} \\times \\frac{1}{6} = \\frac{6!}{6^6} = 0.015$$"
   ]
  },
  {
   "cell_type": "code",
   "execution_count": 4,
   "id": "5f17cc92",
   "metadata": {
    "ExecuteTime": {
     "end_time": "2023-03-13T01:23:06.499319Z",
     "start_time": "2023-03-13T01:23:06.485323Z"
    }
   },
   "outputs": [
    {
     "data": {
      "text/plain": [
       "0.015432098765432098"
      ]
     },
     "execution_count": 4,
     "metadata": {},
     "output_type": "execute_result"
    }
   ],
   "source": [
    "import math \n",
    "# calculons la valeur précédente\n",
    "math.factorial(6) / 6**6"
   ]
  },
  {
   "cell_type": "markdown",
   "id": "9c9157dc",
   "metadata": {},
   "source": [
    "Passons à la simulation en identifiant des points suivants :\n",
    "\n",
    "* *variables à controler* : les résultats de 6 lancements d'un dé\n",
    "* *distribution de chaque variable* : uniforme discrète, 1/6 pour chaque côté :\n",
    "|1|2|3|4|5|6|\n",
    "|--|--|--|--|--|--|\n",
    "|$$\\frac{1}{6}$$|$$\\frac{1}{6}$$|$$\\frac{1}{6}$$|$$\\frac{1}{6}$$|$$\\frac{1}{6}$$|$$\\frac{1}{6}$$|\n",
    "* *boucle* (à répéter autant de fois que le nombre d'essais) :\n",
    "    - *réalisation d'une variable aléatoire* : un lancement d'un dé\n",
    "    - *calcul déterministe du résultat* : ajout de résultat de la réalisation dans un ensemble (`set`). Si la taille de cet ensemble au bout de 6 lancement est égale à 6 (nombre de lancement), donc tous les lancements ont eu des résultats différents. Si c'est le cas, on incrémente la valeur de variable-compteur de succès. \n",
    "* *Agrégation de résultat* : diviser le nombre de succès par le nombre d'essais pour avoir la probabilité"
   ]
  },
  {
   "cell_type": "code",
   "execution_count": 5,
   "id": "cd1969c0",
   "metadata": {
    "ExecuteTime": {
     "end_time": "2023-03-13T01:23:12.930825Z",
     "start_time": "2023-03-13T01:23:06.500317Z"
    }
   },
   "outputs": [
    {
     "name": "stdout",
     "output_type": "stream",
     "text": [
      "La probabilité du succès : 0.015297\n"
     ]
    }
   ],
   "source": [
    "# nombre d'essais\n",
    "trials = 1000000\n",
    "# initialisation du compteur de succès \n",
    "success = 0\n",
    "# nombre de lancement de dé\n",
    "rolls = 6\n",
    "# répétitions selon le nombre d'essais\n",
    "for i in range(trials):\n",
    "    # ensemble de résultats uniques lors de lancements\n",
    "    faces = set() \n",
    "    # pour chaque lancement \n",
    "    for j in range(rolls):\n",
    "        # réalisation d'une distribution uniforme sur [1, 6]\n",
    "        res = randint(1, 6)\n",
    "        # ajout de résultat dans l'ensemble faces\n",
    "        faces.add(res)\n",
    "    # test si le nombre de valeurs dans faces est égale à nombre de lancements de dé \n",
    "    if len(faces) == rolls :\n",
    "        # incrémente le succès\n",
    "        success += 1\n",
    "# calcul de la probabilité du succès\n",
    "prob = success / trials\n",
    "# affichage du résultat\n",
    "print(f\"La probabilité du succès : {prob}\")"
   ]
  },
  {
   "cell_type": "markdown",
   "id": "1a64954f",
   "metadata": {},
   "source": [
    "Notons qu'on obtient le résultat conforme avec la valeur théorique."
   ]
  },
  {
   "cell_type": "markdown",
   "id": "d8889e30",
   "metadata": {},
   "source": [
    "#### Application au problème de Monty Hall "
   ]
  },
  {
   "cell_type": "markdown",
   "id": "e533f563",
   "metadata": {},
   "source": [
    "Soit `doors = [\"A\", \"B\", \"C\"]` une liste contenant les options pour les portes. \n",
    "Ecrivez la fonction `simulation_monty_hall(trials)` qui prend en paramètre le nombre de runs à faire (`trials`) et effectue des opérations suivantes : \n",
    "\n",
    "* choisit la porte gagnante d'une manière aléatoire à partir de `doors`, \n",
    "* choisit la porte \"choix initial\" de la personne d'une manière aléatoire à partir de `doors`, \n",
    "* agrège les résultats de victoire en choisissant soit la porte initiale, soit en changeant la porte une fois une chèvre dévoilée. \n",
    "* calcule le résultat de réussite de chacune de stratégies : si le choix initial est gagnant, alors c'est la stratégie de garder le choix initial qui gagne, sinon c'est la stratégie de changer la porte qui gagne.\n",
    "\n",
    "```\n",
    "def simulation_monty_hall(trials=10000):\n",
    "    \"\"\"\n",
    "    Simulation du problème de Monty Hall. La porte gagnante et la porte choisie initialement par l'utilisateur \n",
    "    sont choisies d'une manière aléatoire.\n",
    "    \n",
    "    Keyword arguments:\n",
    "    trials --  nombre de simulations (essais). Par défaut, 10000 \n",
    "    \n",
    "    Return:\n",
    "    un dictionnaire contenant le nombre de fois que la porte choisie initialement gagne (initial) et \n",
    "    le nombre de fois où la stratégie de changer la porte gagne (change)\n",
    "    \"\"\"\n",
    "```"
   ]
  },
  {
   "cell_type": "code",
   "execution_count": 6,
   "id": "4444fb1c",
   "metadata": {
    "ExecuteTime": {
     "end_time": "2023-03-13T01:23:12.946738Z",
     "start_time": "2023-03-13T01:23:12.932774Z"
    }
   },
   "outputs": [],
   "source": [
    "## Donnez votre code ici\n",
    "def simulation_monty_hall(trials=10000):\n",
    "    doors = [\"A\", \"B\", \"C\"]\n",
    "    res = {\"garder\" : 0, \"changer\" : 0}\n",
    "    \n",
    "    for i in range (trials):\n",
    "        windoor = choice(doors)\n",
    "        initdoor = choice(doors)\n",
    "        if initdoor == windoor:\n",
    "            res[\"garder\"] += 1\n",
    "        else:\n",
    "            res[\"changer\"] += 1\n",
    "    return res"
   ]
  },
  {
   "cell_type": "markdown",
   "id": "c1e8ee51",
   "metadata": {},
   "source": [
    "Faites les simulations pour le nombre de runs 10, 100, 1000, 10000, 50000, 100000, 1000000. Afficher les statistiques suivantes :\n",
    "- le nombre de runs\n",
    "- le nombre de fois la stratégie de garder le choix initial (stratégie 1) gagne\n",
    "- le nombre de fois la stratégie de changer (stratégie 2) gagne \n",
    "- la probabilité de gagner avec la stratégie 1 \n",
    "- la probabilité de gagner avec la stratégie 2 \n",
    "\n",
    "Commentez."
   ]
  },
  {
   "cell_type": "code",
   "execution_count": 7,
   "id": "b2e35716",
   "metadata": {
    "ExecuteTime": {
     "end_time": "2023-03-13T01:23:14.086371Z",
     "start_time": "2023-03-13T01:23:12.947738Z"
    }
   },
   "outputs": [
    {
     "name": "stdout",
     "output_type": "stream",
     "text": [
      "Runs : 1000000\n",
      "Stratégie 1 : 332687 wins\n",
      "Stratégie 2 : 667313 wins\n",
      "Probabilité de victoire stratégie 1 : 0.332687\n",
      "Probabilité de victoire stratégie 2 : 0.667313\n"
     ]
    }
   ],
   "source": [
    "## Donnez votre code ici\n",
    "runs = 1000000\n",
    "res = simulation_monty_hall(runs)\n",
    "print(f\"Runs : {runs}\")\n",
    "print(f\"Stratégie 1 : {res['garder']} wins\")\n",
    "print(f\"Stratégie 2 : {res['changer']} wins\")\n",
    "print(f\"Probabilité de victoire stratégie 1 : {res['garder']/(res['garder']+res['changer'])}\")\n",
    "print(f\"Probabilité de victoire stratégie 2 : {res['changer']/(res['garder']+res['changer'])}\")\n"
   ]
  },
  {
   "cell_type": "markdown",
   "id": "9b0a1201",
   "metadata": {},
   "source": [
    "**Conclusions / commentaires :** <span style=\"color:red\">Donnez vos commentaires ici</span>"
   ]
  },
  {
   "cell_type": "markdown",
   "id": "82261bcc",
   "metadata": {},
   "source": [
    "Le résultat est assez contre-intuitif : La stratégie de changer de porte donne une probabilité de victoire d’environ 2/3, alors que garder son choix initial ne donne qu’environ 1/3. C’est contre-intuitif car on pourrait penser que, après qu’une porte est ouverte, il ne reste qu’un choix sur deux.\n",
    "\n",
    "En fait, le présentateur nous donne une information lorsqu'il ouvre la porte ne contenant pas le prix.\n",
    "\n",
    "Conclusion :\n",
    "→ Il vaut mieux changer de porte."
   ]
  },
  {
   "cell_type": "markdown",
   "id": "76bbd8e8",
   "metadata": {},
   "source": [
    "## Simulation des lois"
   ]
  },
  {
   "cell_type": "markdown",
   "id": "cef23f16",
   "metadata": {},
   "source": [
    "**Objectifs :**\n",
    "\n",
    "* Comprendre la génération de pseudo-aléatoires\n",
    "* Transformer la distribution uniforme sur $[0, 1]$ en une distribution plus complexe.* Transformer la distribution uniforme sur $[0, 1]$ en une distribution plus complexe."
   ]
  },
  {
   "cell_type": "markdown",
   "id": "2d2d938a",
   "metadata": {},
   "source": [
    "### Distribution uniforme"
   ]
  },
  {
   "cell_type": "markdown",
   "id": "2bc11a9f",
   "metadata": {},
   "source": [
    "Nous étudierons les générateurs suivants :\n",
    "1. le *générateur de Von Neumann*, introduit en 1946, qui consiste à élever un nombre au carré puis à retirer le premier et le dernier chiffre, et à itérer cette opération ;\n",
    "2. un *générateur à congruence linéaire usuel*, dit *Standard Minimal*,\n",
    "3. un *générateur à congruence linéaire avec un choix différent des paramètres*, dit *RANDU*.\n",
    "\n",
    "Le principe de ces générateurs est décrit ci-après.\n",
    "\n",
    "Nous n'allons pas étudier le *générateur Mersenne-Twister*, qui est le générateur par défaut de `R` et [`Python`](https://docs.python.org/3/library/random.html). Il peut également être trouvé chez `numpy`,  notamment la classe [`numpy.random.MT19937(seed=None)`](https://numpy.org/doc/stable/reference/random/bit_generators/mt19937.html). En `numpy`, le générateur principal est [Permuted Congruential Generator (64-bit, PCG64), `numpy.random.PCG64(seed=None)`](https://numpy.org/doc/stable/reference/random/bit_generators/pcg64.html#numpy.random.PCG64) \n",
    "\n",
    "Le générateurs Mersenne-Twister ne sera pas décrit\n",
    "ici. Nous renvoyons à [[1]](https://fr.wikipedia.org/wiki/Mersenne_Twister) et [[2]](https://link.springer.com/chapter/10.1007/978-3-540-85912-3_26) pour une description détaillée.\n",
    "\n",
    "**Table de matières :**\n",
    "\n",
    "- [Définition d'un générateur aléatoire](#1)\n",
    "    - [Définition](#1.1)\n",
    "    - [Générateurs pseudo-aléatoires étudiés](#1.2)\n",
    "        - [Générateur de Von Neumann](#von-neumann)\n",
    "        - [Générateurs à congruence linéaires](#congruence)\n",
    "            - [Standard Minimal](#std-min)\n",
    "            - [RANDU](#randu)\n",
    "        - [Graine des générateurs](#graine)\n",
    "    - [Qualité de la séquence produite par un générateur pseudo-aléatoire](#tests)"
   ]
  },
  {
   "cell_type": "markdown",
   "id": "540f8729",
   "metadata": {},
   "source": [
    "<a name='1'></a>\n",
    "#### Définition d'un générateur aléatoire"
   ]
  },
  {
   "cell_type": "markdown",
   "id": "4d763b95",
   "metadata": {},
   "source": [
    "Dans beaucoup d’applications informatiques (la simulation, les jeux vidéos, la cryptographie, etc.), il est nécessaire de tirer des nombres au hasard pour initialiser différents algorithmes. Pour cela, on utilise ce qu’on appelle des nombres **pseudo-aléatoires** pour souligner leur différence par rapport aux véritables suites de variables aléatoires indépendantes identiquement distribuées. Nous nous intéressons ici à quelques méthodes classiquement utilisées pour générer des nombres pseudo-aléatoires (pour plus de détails, se référer par exemple à [[3]](http://math.univ-lyon1.fr/~jberard/genunif-www.pdf)). Plus précisément, il existe deux types de générateurs :\n",
    "* les générateurs *à sorties imprédictibles* : ils génèrent des nombres pseudo-aléatoires dont on ne peut pas prévoir la valeur,\n",
    "* les générateurs *à sorties prédictibles* : dans ces générateurs, on initialise (on dit *nourrir*) l’algorithme à partir d’un nombre connu appelé **graine** et le générateur produira toujours la même suite s'il est initialisé avec la même valeur.\n",
    "\n",
    "Notons que la plupart des algorithmes de génération de nombres pseudo-aléatoires essaient de produire des sorties qui sont *uniformément distribuées* ($\\mathcal{U}([0,1])$). Ceci est expliqué par le fait qu'à partir d'une suite uniforme, il existe des méthodes pour générer des suites de nombres selon les principales lois de probabilité (e.g., *la méthode de la transformée inverse*). \n",
    "\n",
    "[Vidéo sur la génération de nombre aléatoires et psudo-aléatoires par Khan Academy](https://www.khanacademy.org/computing/computer-science/cryptography/crypt/v/random-vs-pseudorandom-number-generators)"
   ]
  },
  {
   "cell_type": "markdown",
   "id": "fbf62409",
   "metadata": {},
   "source": [
    "<a name='1.1'></a>\n",
    "##### Définition\n",
    "\n",
    "<div class=\"alert alert-block alert-info\">\n",
    "Un <b>générateur pseudo-aléatoire</b> est une structure $G = (S, \\mu, f, U, g)$ avec :\n",
    "\n",
    "* $S$ un (grand) ensemble fini d’états,\n",
    "* $\\mu$ est une distribution de probabilité sur $S$ (le plus souvent la loi uniforme),\n",
    "* $f : S \\rightarrow S$ est la fonction de transition utilisée pour passer d'un état $S_i$ au suivant $S_{i+1}$.\n",
    "* $U$ est l'ensemble image de la fonction $g : S \\rightarrow U$ qui fait correspondre à chaque état $S_i$ un échantillon de $U$. Très classiquement, on va avoir $U = [0, 1]$ pour une loi uniforme sur $[0,1]$.\n",
    "</div>\n",
    "\n",
    "Le générateur fonctionne donc en itérant la fonction $f$ à partir d'un état initial $S_0$ appelé **graine** (en. **seed**), choisi par l’utilisateur. En notant $(X_n)_{n\\geq1}$ la liste des valeurs successives produites par le générateur, on a la relation $X_n = g(\\underbrace{f\\circ ... \\circ f(S_0)}_{n\\text{ fois}})$ où $f$ est appliquée $n$ fois.\n",
    "\n",
    "**Remarque :** La notation $g \\circ f$ se lit \"$g$ rond $f$\" ou \"$g$ suivi de $f$\" et correspond à la *composition de fonctions* aussi appelée *composition d'applications*, i.e. $h = g \\circ f$ telle que $h(x) = g(f(x))$.\n",
    "\n",
    "En pratique, le générateur ne garde en mémoire que l'état courant $S_n \\in S$, initialisé à $S_0$ et mis à jour lors de chaque appel de $f : S_n = f(S_{n-1})$, la valeur renvoyée étant égale à $X_n = g(S_n)$.\n",
    "\n",
    "Le choix de la graine $S_0$ détermine donc entièrement la suite de nombres pseudo-aléatoires produite par le générateur car une fois cette graine choisie, le comportement de la suite est complétement **déterministe**."
   ]
  },
  {
   "cell_type": "markdown",
   "id": "5bc2194a",
   "metadata": {},
   "source": [
    "<a name='1.2'></a>\n",
    "##### Générateurs pseudo-aléatoires étudiés"
   ]
  },
  {
   "cell_type": "markdown",
   "id": "36040547",
   "metadata": {},
   "source": [
    "<a name='von-neumann'></a>\n",
    "###### Générateur de Von Neumann\n",
    "\n",
    "<img style=\"float: right;\" src=\"https://upload.wikimedia.org/wikipedia/commons/thumb/d/d6/JohnvonNeumann-LosAlamos.jpg/220px-JohnvonNeumann-LosAlamos.jpg\" alt=\"John von Neumann's portrait, source: wikipedia\" width=\"150px\"> En 1949, John von Neumann propose un générateur pseudo-aléatoire dit *la méthode middle-square* (carré médian). La méthode utilise des nombres comportant 10 chiffres.  \n",
    "\n",
    "La fonction $f$ consiste à élever le nombre $S_n$ au carré et à ôter les premiers et les derniers chiffres en prenant les chiffres au milieu, de manière symétrique, de sorte à ce que le nombre obtenu soit compris entre 0 et 9999. \n",
    "\n",
    "**Exemples :**\n",
    "\n",
    "Soit $S_n = 1315$. Ce nombre est composé de $k = 4$ chiffres. \n",
    "\n",
    "1. $1315^2 = 1729225$. Notons que $1729225$ est composé de 7 chiffres, ce qui ne correspond pas à $2*k = 8$. On peut donc ajouter un 0 au début, ce qui va donner \"**0**1729225\"\n",
    "2. on récupère les 4 chiffres du milieu : $01\\underbrace{7292}_{milieu}25$\n",
    "\n",
    "Donc $S_{n+1} = 7292$.\n",
    "\n",
    "Soit $S_n = 3432, k=4$ : \n",
    "\n",
    "1. $3432^2 = 11778624$, où le nombre de chiffres est $8 = 2k$\n",
    "2. on récupère les 4 chiffre du milieu : $11\\underbrace{7786}_{milieu}24$\n",
    "\n",
    "Donc $S_{n+1} = 7786$"
   ]
  },
  {
   "cell_type": "markdown",
   "id": "408547e9",
   "metadata": {},
   "source": [
    "**Question 1.** Ecrivez la fonction `vonNeumann_no_repeated(seed=0)` qui génére les nombres pseudo-aléatoires avec la méthode de Von Neumann en partant de la graine donnée `seed`.\n",
    "**Question 2.** Testez pour $S_0 = 1315$, $S_0 = 7$ et $S_0 = 42$.\n",
    "\n",
    "```\n",
    "def vonNeumann_no_repeated(seed=0):\n",
    "    \"\"\"\n",
    "    Geneation of pseudo-random numbers using middle-square method by von Neumann. \n",
    "    \n",
    "    Keyword arguments:\n",
    "    seed -- Initial number. By default, seed = 0 \n",
    "    \n",
    "    Return:\n",
    "    sn -- final state  \n",
    "    counter -- the number of iterations    \n",
    "    already_seen_list -- a sequence of created numbers\n",
    "    \"\"\"\n",
    "```\n",
    "\n",
    "Notons que les résultats obtenus pour $S_0 = 7$ et $S_0 = 42$ doivent correspondre bien aux états présentés sur le graphe orienté de 100 nombres pseudo-aléatoires composés de 2 chiffres obtenus avec la méthode middle-square avec $k=2$ ci-dessous :\n",
    "\n",
    "<img src=\"img/Middle_square_method_2_digits.png\" alt=\"Graphe orienté de 100 nombres pseudo-aléatoires composés de 2 chiffres obtenus avec la méthode middle-square avec $k=2$. Source : wikipedia https://en.wikipedia.org/wiki/Middle-square_method#/media/File:Middle_square_method_2_digits.svg\" width=\"300px\">.\n",
    "\n",
    "On peut remarquer que parmi les 100 premiers nombres entiers aucun peut générer des séquences sans venir à un des états suivants : 0, 10, 50, 60 et la boucle $24 \\leftrightarrow 57$. \n",
    "\n",
    "Afin de pouvoir générer le nombre donné de nombres pseudo-aléatoires, nous allons relacher la contrainte de non-répétition. \n",
    "\n",
    "**Question 3.** Mettez à jour l'implémentation de la fonction en relachant le contrainte de non-répétition. \n",
    "\n",
    "```\n",
    "def vonNeumann(seed=0, k=10):\n",
    "    \"\"\"\n",
    "    Geneation of pseudo-random numbers using middle-square method by von Neumann. \n",
    "    \n",
    "    Keyword arguments:\n",
    "    seed -- Initial number. By default, seed = 0 \n",
    "    \n",
    "    Return:\n",
    "    sn -- final state  \n",
    "    counter -- the number of iterations    \n",
    "    already_seen_list -- a sequence of created numbers\n",
    "    \"\"\"\n",
    "```\n",
    "\n",
    "Pour le `seed=42` et `k=20`, vous devew obtenir :\n",
    "`[76, 77, 92, 46, 11, 12, 14, 19, 36, 29, 84, 5, 2, 0, 0, 0, 0, 0, 0, 0]`"
   ]
  },
  {
   "cell_type": "code",
   "execution_count": 8,
   "id": "ee5f5133",
   "metadata": {},
   "outputs": [],
   "source": [
    "## Donnez votre code ici\n",
    "def vonNeumann_no_repeated(seed=0):\n",
    "    already = []\n",
    "    seed_str = str(seed).zfill(4)\n",
    "    counter = 0\n",
    "    sn = seed_str\n",
    "    \n",
    "    while sn not in already:\n",
    "        already.append(sn)\n",
    "        counter += 1\n",
    "        squared = str(int(sn) ** 2).zfill(8)\n",
    "        \n",
    "        sn = squared[2:6]\n",
    "        \n",
    "    return sn, counter, already\n",
    "        \n",
    "        \n",
    "    \n",
    "    "
   ]
  },
  {
   "cell_type": "code",
   "execution_count": 9,
   "id": "93d15fc8",
   "metadata": {},
   "outputs": [
    {
     "name": "stdout",
     "output_type": "stream",
     "text": [
      "('9600', 8, ['1315', '7292', '1732', '9998', '9600', '1600', '5600', '3600'])\n",
      "('0000', 2, ['0007', '0000'])\n",
      "('0000', 4, ['0042', '0017', '0002', '0000'])\n"
     ]
    }
   ],
   "source": [
    "# Test avec seeds 1315, 7, 42\n",
    "\n",
    "print(vonNeumann_no_repeated(seed=1315))\n",
    "print(vonNeumann_no_repeated(seed=7))\n",
    "print(vonNeumann_no_repeated(seed=42))"
   ]
  },
  {
   "cell_type": "code",
   "execution_count": 10,
   "id": "ae5a1b9a",
   "metadata": {},
   "outputs": [],
   "source": [
    "## Donnez votre code ici\n",
    "def vonNeumann(seed=0, k=10):\n",
    "    already = []\n",
    "    seed_str = str(seed).zfill(2)\n",
    "    sn = seed_str\n",
    "    \n",
    "    for i in range (k):\n",
    "        \n",
    "        squared = str(int(sn) ** 2).zfill(4)\n",
    "        \n",
    "        sn = squared[1:3]\n",
    "        already.append(sn)\n",
    "        \n",
    "    return sn, k,already"
   ]
  },
  {
   "cell_type": "code",
   "execution_count": 11,
   "id": "30548bf5",
   "metadata": {},
   "outputs": [
    {
     "name": "stdout",
     "output_type": "stream",
     "text": [
      "('00', 20, ['76', '77', '92', '46', '11', '12', '14', '19', '36', '29', '84', '05', '02', '00', '00', '00', '00', '00', '00', '00'])\n"
     ]
    }
   ],
   "source": [
    "# Test avec seed 42\n",
    "print(vonNeumann(seed=42, k=20))"
   ]
  },
  {
   "cell_type": "markdown",
   "id": "594d463a",
   "metadata": {},
   "source": [
    "<a name='congruence'></a>\n",
    "##### Générateurs à congruence linéaire"
   ]
  },
  {
   "cell_type": "markdown",
   "id": "1528e9c9",
   "metadata": {},
   "source": [
    "Introduits en 1948, les générateurs à congruence linéaire ont ensuite eu beaucoup de succès. L’idée est d'appliquer une transformation linéaire suivie d'une opération de congruence. Soit $S_0$ la graine. Pour chaque graine on obtient une suite de nombres pseudo-alétaoires de la façon suivante. Dans le cas discret,  :\n",
    "\n",
    "$$S = U = \\{0, ..., m\\}$$\n",
    "$$S_n = f(S_{n-1}) = (a \\cdot S_{n-1} + b)\\mod m$$\n",
    "$$X_n = g(S_n) = S_n$$\n",
    "\n",
    "Notons que du fait de l'opération $mod$, les termes de la suite sont compris entre 0 et $m-1$. Si on souhaite se ramener à l'intervalle $U = [0, 1]$, on appliquera $X_n = g(S_n) = S_n/m$. \n",
    "\n",
    "En outre, étant donné la dépendance de chaque terme du précédent, si un nombre apparaît une 2ème fois, toute la suite se reproduit à partir de ce nombre. La suite est donc amenée à se répéter au bout de certain temps. \n",
    "\n",
    "D'autres types de congruence peuvent être considérés. Par exemple, la fonction `rand` de `C` utilise par défaut une congruence de type polynomial.\n",
    "\n",
    "Nous étudierons dans ce TP deux générateurs à congruence linéaire :\n",
    "    \n",
    "* Standard Minimal\n",
    "* RANDU\n",
    "\n",
    "Les valeurs de paramètres de ce deux algorithmes sont données ci-dessous :\n",
    "\n",
    "| Algorithme | $$a$$ | $$b$$ | $$m$$ | \n",
    "|--|--|--|--|\n",
    "| Standard Minimal | $16807$ | $0$ | $2^{31}-1$ |\n",
    "| RANDU | $65539$ | $0$ | $2^{31}$ | "
   ]
  },
  {
   "cell_type": "markdown",
   "id": "61357efc",
   "metadata": {},
   "source": [
    "**Question 4:** Implémentez la fonction `linear_congruence` qui retourne une séquence de $n$ éléments en commeçant avec $S_0 = seed$ suivant la méthode de génération de nombres pseudo-aléatoires à congruence linéaire.\n",
    "\n",
    "```\n",
    "def linear_congruence(seed=0, a=65539, b=0, m=2**31, n=1):\n",
    "    \"\"\"\n",
    "    Geneation of n pseudo-random numbers using linear congruence method with parameters a, b and m . \n",
    "    S_n = (a * S_(n-1) + b) mod m\n",
    "    \n",
    "    Keyword arguments:\n",
    "    seed -- Initial number. By default, seed = 0 \n",
    "    a    -- Multiplier a in the formula\n",
    "    b    -- Increment b in the formula\n",
    "    m    -- Modulus m in the formula\n",
    "    \n",
    "    Return:\n",
    "    series -- a list of n generated numbers starting from seed   \n",
    "    xn -- a list of n generated numbers in the interval [0, 1]\n",
    "    \"\"\"\n",
    "```"
   ]
  },
  {
   "cell_type": "code",
   "execution_count": 12,
   "id": "cc2a9090",
   "metadata": {},
   "outputs": [],
   "source": [
    "# Donnez votre code ici\n",
    "def linear_congruence(seed=0, a=65539, b=0, m=2**31, n=1):\n",
    "    series = []\n",
    "    xn = []\n",
    "    \n",
    "    for i in range (n):\n",
    "        series.append(seed)\n",
    "        xn.append(seed/m)\n",
    "        seed = (a*seed + b) % m\n",
    "    return series, xn\n",
    "        \n",
    "    "
   ]
  },
  {
   "cell_type": "markdown",
   "id": "e87ac6a3",
   "metadata": {},
   "source": [
    "<a name='std-min'></a>\n",
    "###### *Standard Minimal* (MINSTD)\n",
    "\n",
    "MINSTD (Standard Minimal) est un générateur à congruence linéaire proposé en 1988 par Stephen K. Park et Keith W. Miller. Il est définiti par :\n",
    "$$S_n = 16807 \\cdot S_{n-1} \\mod (2^{31}-1)$$\n",
    "\n",
    "Le générateur est décrit sur $\\{0,...,2^{31}-2\\}$.\n",
    "\n",
    "En 1993, le multiplicateur $a = 48271$ était proposé au lieu de $16807$ et est utilisé par le générateur `minstd_rand` de [C++11](https://en.wikipedia.org/wiki/C%2B%2B11).\n",
    "\n",
    "**Question 5:** En vous servant de la fonction `linear_congruence` créé dans la *Question 1*, proposez une implémentation de la méthode MINSTD.\n",
    "\n",
    "```\n",
    "def minstd(seed=0, n=1):\n",
    "    \"\"\"\n",
    "    Generate a list of n pseudorandom numbers based on Standard Minimal algorithm starting with seed.\n",
    "    \"\"\"\n",
    "```\n",
    "\n",
    "Testez votre implémentation avec les paramètres : `seed=1`, `n=6`."
   ]
  },
  {
   "cell_type": "code",
   "execution_count": 13,
   "id": "a966b081",
   "metadata": {},
   "outputs": [],
   "source": [
    "## Donnez votre code ici\n",
    "def minstd(seed=0, n=1):\n",
    "    return linear_congruence(seed, 48271, 0, 2**31 - 1, n)[0]"
   ]
  },
  {
   "cell_type": "code",
   "execution_count": 14,
   "id": "93de07ce",
   "metadata": {},
   "outputs": [
    {
     "name": "stdout",
     "output_type": "stream",
     "text": [
      "[1, 48271, 182605794, 1291394886, 1914720637, 2078669041]\n"
     ]
    }
   ],
   "source": [
    "## Donnez votre code ici\n",
    "\n",
    "# Test avec seed = 1 et n = 6\n",
    "print(minstd(1, 6))"
   ]
  },
  {
   "cell_type": "markdown",
   "id": "9f0c9019",
   "metadata": {},
   "source": [
    "<a name='randu'></a>\n",
    "###### *RANDU*\n",
    "\n",
    "RANDU est un générateur à congruence linéaure qui était utilisé principalement dans les années 1960s et 1970s. Il est définit par récurrence :  \n",
    "$$S_n = 65539 \\cdot S_{n-1} \\mod 2^{31}$$\n",
    "avec la graine $S_0$ impair.  \n",
    "\n",
    "Le générateur est décrit sur $\\{0,...,2^{31}-1\\}$.\n",
    "\n",
    "Pour $S_0 = 1$, une séquence contenant 6 éléments est la suivante : \n",
    "$$\\matrix{1 & 65539 & 393225 & 1769499 & 7077969 & 26542323}$$\n",
    "\n",
    "**Question 6:** En vous servant de la fonction `linear_congruence` créé dans la *Question 1*, proposez une implémentation de la méthode RANDU.\n",
    "\n",
    "```\n",
    "def randu(seed=0, n=1):\n",
    "    \"\"\"\n",
    "    Generate a list of n pseudorandom numbers based on RANDU algorithm starting with seed.\n",
    "    \"\"\"\n",
    "```\n",
    "\n",
    "Testez votre implémentation avec les paramètres : `seed=1`, `n=6`."
   ]
  },
  {
   "cell_type": "code",
   "execution_count": 15,
   "id": "dbf66d40",
   "metadata": {},
   "outputs": [],
   "source": [
    "## Donnez votre code ici\n",
    "def randu(seed=0, n=1):\n",
    "    return linear_congruence(seed, 65539, 0, 2**31, n)[0]"
   ]
  },
  {
   "cell_type": "code",
   "execution_count": 16,
   "id": "11371205",
   "metadata": {},
   "outputs": [
    {
     "name": "stdout",
     "output_type": "stream",
     "text": [
      "[1, 65539, 393225, 1769499, 7077969, 26542323]\n"
     ]
    }
   ],
   "source": [
    "## Donnez votre code ici\n",
    "\n",
    "# Test avec seed = 1 et n = 6\n",
    "print(randu(1,6))"
   ]
  },
  {
   "cell_type": "markdown",
   "id": "cfef51a9",
   "metadata": {},
   "source": [
    "<a name='graine'></a>\n",
    "##### Graine des générateurs\n",
    "\n",
    "Pour choisir la graine, dans le `Python` de base, on emploie la fonction [`random.seed(a=None)`](https://docs.python.org/3/library/random.html#random.seed) que l'on \"nourrit\" à l'aide d'un nombre. Si vous souhaitez faire une expérience reproductible, il faut initialiser la graine avec un nombre fixé. Ceci doit être utilisé notamment pour comparer des algorithmes. En effet les comparaisons sont alors réalisées sur deux jeux de données simulées identiques. Si le but est de générer une suite difficilement prévisible et qui varie rapidement, il faut l’initialiser avec un nombre qui varie rapidement. Par exemple, vous pouvez prendre le nombre de cycles utilisés par votre processeur depuis son démarrage. "
   ]
  },
  {
   "cell_type": "markdown",
   "id": "01a6d53f",
   "metadata": {},
   "source": [
    "<a name='tests'></a>\n",
    "#### Qualité de la séquence produite par un générateur pseudo-aléatoire"
   ]
  },
  {
   "cell_type": "markdown",
   "id": "4452601f",
   "metadata": {},
   "source": [
    "Nous testerons dans la suite les générateurs pseudo-aléatoires VonNeumann, RANDU, Standard Minimal. Il existe beaucoup de tests permettant de s’assurer de la qualité des nombres aléatoires produits (voir les suites de tests complètes du NIST [[6]](http://csrc.nist.gov/groups/ST/toolkit/rng/index.html) ou de DIEHARD [[7]](https://en.wikipedia.org/wiki/Diehard_tests) et [[10]](https://ani.stat.fsu.edu/diehard/)).\n",
    "\n",
    "Nous nous focaliserons sur le test visuel. \n",
    "\n",
    "Plus précisément,\n",
    "il s’agira de tester pour chacun des générateurs :\n",
    "* pour le premier test, visuel, sur une séquence de $n = 1000$ valeurs.\n",
    "* pour les trois derniers tests sur une séquence de $n = 100$ et pour 100 initialisations différentes.\n",
    "\n",
    "**Question 7 :** Générez $n=1000$ valeurs avec chaque algorithme, en fixant la graine.  "
   ]
  },
  {
   "cell_type": "code",
   "execution_count": 17,
   "id": "99c40b20",
   "metadata": {},
   "outputs": [
    {
     "name": "stdout",
     "output_type": "stream",
     "text": [
      "('00', 1000, ['00', '00', '00', '00', '00', '00', '00', '00', '00', '00', '00', '00', '00', '00', '00', '00', '00', '00', '00', '00', '00', '00', '00', '00', '00', '00', '00', '00', '00', '00', '00', '00', '00', '00', '00', '00', '00', '00', '00', '00', '00', '00', '00', '00', '00', '00', '00', '00', '00', '00', '00', '00', '00', '00', '00', '00', '00', '00', '00', '00', '00', '00', '00', '00', '00', '00', '00', '00', '00', '00', '00', '00', '00', '00', '00', '00', '00', '00', '00', '00', '00', '00', '00', '00', '00', '00', '00', '00', '00', '00', '00', '00', '00', '00', '00', '00', '00', '00', '00', '00', '00', '00', '00', '00', '00', '00', '00', '00', '00', '00', '00', '00', '00', '00', '00', '00', '00', '00', '00', '00', '00', '00', '00', '00', '00', '00', '00', '00', '00', '00', '00', '00', '00', '00', '00', '00', '00', '00', '00', '00', '00', '00', '00', '00', '00', '00', '00', '00', '00', '00', '00', '00', '00', '00', '00', '00', '00', '00', '00', '00', '00', '00', '00', '00', '00', '00', '00', '00', '00', '00', '00', '00', '00', '00', '00', '00', '00', '00', '00', '00', '00', '00', '00', '00', '00', '00', '00', '00', '00', '00', '00', '00', '00', '00', '00', '00', '00', '00', '00', '00', '00', '00', '00', '00', '00', '00', '00', '00', '00', '00', '00', '00', '00', '00', '00', '00', '00', '00', '00', '00', '00', '00', '00', '00', '00', '00', '00', '00', '00', '00', '00', '00', '00', '00', '00', '00', '00', '00', '00', '00', '00', '00', '00', '00', '00', '00', '00', '00', '00', '00', '00', '00', '00', '00', '00', '00', '00', '00', '00', '00', '00', '00', '00', '00', '00', '00', '00', '00', '00', '00', '00', '00', '00', '00', '00', '00', '00', '00', '00', '00', '00', '00', '00', '00', '00', '00', '00', '00', '00', '00', '00', '00', '00', '00', '00', '00', '00', '00', '00', '00', '00', '00', '00', '00', '00', '00', '00', '00', '00', '00', '00', '00', '00', '00', '00', '00', '00', '00', '00', '00', '00', '00', '00', '00', '00', '00', '00', '00', '00', '00', '00', '00', '00', '00', '00', '00', '00', '00', '00', '00', '00', '00', '00', '00', '00', '00', '00', '00', '00', '00', '00', '00', '00', '00', '00', '00', '00', '00', '00', '00', '00', '00', '00', '00', '00', '00', '00', '00', '00', '00', '00', '00', '00', '00', '00', '00', '00', '00', '00', '00', '00', '00', '00', '00', '00', '00', '00', '00', '00', '00', '00', '00', '00', '00', '00', '00', '00', '00', '00', '00', '00', '00', '00', '00', '00', '00', '00', '00', '00', '00', '00', '00', '00', '00', '00', '00', '00', '00', '00', '00', '00', '00', '00', '00', '00', '00', '00', '00', '00', '00', '00', '00', '00', '00', '00', '00', '00', '00', '00', '00', '00', '00', '00', '00', '00', '00', '00', '00', '00', '00', '00', '00', '00', '00', '00', '00', '00', '00', '00', '00', '00', '00', '00', '00', '00', '00', '00', '00', '00', '00', '00', '00', '00', '00', '00', '00', '00', '00', '00', '00', '00', '00', '00', '00', '00', '00', '00', '00', '00', '00', '00', '00', '00', '00', '00', '00', '00', '00', '00', '00', '00', '00', '00', '00', '00', '00', '00', '00', '00', '00', '00', '00', '00', '00', '00', '00', '00', '00', '00', '00', '00', '00', '00', '00', '00', '00', '00', '00', '00', '00', '00', '00', '00', '00', '00', '00', '00', '00', '00', '00', '00', '00', '00', '00', '00', '00', '00', '00', '00', '00', '00', '00', '00', '00', '00', '00', '00', '00', '00', '00', '00', '00', '00', '00', '00', '00', '00', '00', '00', '00', '00', '00', '00', '00', '00', '00', '00', '00', '00', '00', '00', '00', '00', '00', '00', '00', '00', '00', '00', '00', '00', '00', '00', '00', '00', '00', '00', '00', '00', '00', '00', '00', '00', '00', '00', '00', '00', '00', '00', '00', '00', '00', '00', '00', '00', '00', '00', '00', '00', '00', '00', '00', '00', '00', '00', '00', '00', '00', '00', '00', '00', '00', '00', '00', '00', '00', '00', '00', '00', '00', '00', '00', '00', '00', '00', '00', '00', '00', '00', '00', '00', '00', '00', '00', '00', '00', '00', '00', '00', '00', '00', '00', '00', '00', '00', '00', '00', '00', '00', '00', '00', '00', '00', '00', '00', '00', '00', '00', '00', '00', '00', '00', '00', '00', '00', '00', '00', '00', '00', '00', '00', '00', '00', '00', '00', '00', '00', '00', '00', '00', '00', '00', '00', '00', '00', '00', '00', '00', '00', '00', '00', '00', '00', '00', '00', '00', '00', '00', '00', '00', '00', '00', '00', '00', '00', '00', '00', '00', '00', '00', '00', '00', '00', '00', '00', '00', '00', '00', '00', '00', '00', '00', '00', '00', '00', '00', '00', '00', '00', '00', '00', '00', '00', '00', '00', '00', '00', '00', '00', '00', '00', '00', '00', '00', '00', '00', '00', '00', '00', '00', '00', '00', '00', '00', '00', '00', '00', '00', '00', '00', '00', '00', '00', '00', '00', '00', '00', '00', '00', '00', '00', '00', '00', '00', '00', '00', '00', '00', '00', '00', '00', '00', '00', '00', '00', '00', '00', '00', '00', '00', '00', '00', '00', '00', '00', '00', '00', '00', '00', '00', '00', '00', '00', '00', '00', '00', '00', '00', '00', '00', '00', '00', '00', '00', '00', '00', '00', '00', '00', '00', '00', '00', '00', '00', '00', '00', '00', '00', '00', '00', '00', '00', '00', '00', '00', '00', '00', '00', '00', '00', '00', '00', '00', '00', '00', '00', '00', '00', '00', '00', '00', '00', '00', '00', '00', '00', '00', '00', '00', '00', '00', '00', '00', '00', '00', '00', '00', '00', '00', '00', '00', '00', '00', '00', '00', '00', '00', '00', '00', '00', '00', '00', '00', '00', '00', '00', '00', '00', '00', '00', '00', '00', '00', '00', '00', '00', '00', '00', '00', '00', '00', '00', '00', '00', '00', '00', '00', '00', '00', '00', '00', '00', '00', '00', '00', '00', '00', '00', '00', '00', '00', '00', '00', '00', '00', '00', '00', '00', '00', '00', '00', '00', '00', '00', '00', '00', '00', '00', '00', '00', '00', '00', '00', '00', '00', '00', '00', '00', '00', '00', '00', '00', '00', '00', '00', '00', '00', '00', '00', '00', '00', '00', '00', '00', '00', '00', '00', '00', '00', '00', '00', '00', '00', '00', '00', '00', '00', '00', '00', '00'])\n",
      "[1, 65539, 393225, 1769499, 7077969, 26542323, 95552217, 334432395, 1146624417, 1722371299, 14608041, 1766175739, 1875647473, 1800754131, 366148473, 1022489195, 692115265, 1392739779, 2127401289, 229749723, 1559239569, 845238963, 1775695897, 899541067, 153401569, 1414474403, 663781353, 1989836731, 1670020913, 701529491, 2063890617, 1774610987, 662584961, 888912771, 1517695625, 1105958811, 1566426833, 1592415347, 1899101529, 1357838347, 1792534561, 682145891, 844966185, 1077967739, 1010594417, 656824147, 1288046073, 1816859115, 1456223681, 975544643, 1337189321, 1390717787, 604570129, 1848378931, 1354175129, 79574987, 1174775649, 2037511715, 1652089449, 164865851, 1152775601, 1137893651, 747348793, 685500843, 1681833217, 1774008067, 1950000393, 28897051, 1950731601, 706897907, 1717188569, 1793566603, 1749153441, 795272163, 1914153897, 32506619, 147523825, 592583379, 80302201, 1591013739, 233428033, 2113830083, 1992193609, 1518625499, 1919428753, 2143910323, 2031054105, 1481066315, 1344329185, 1178829219, 1416463593, 36802235, 357542961, 1814037651, 1223888313, 1754409259, 1658944385, 606433923, 1593005961, 1952646811, 1673794513, 1058880371, 2026549849, 481892107, 1832273185, 214159203, 1974365737, 1328827003, 941088625, 129539667, 897374969, 2070909163, 54112961, 1013848131, 1301104841, 829479515, 1856868113, 1528409395, 1048577945, 1125717707, 1612072033, 1688456483, 2064541545, 1486108219, 1073193649, 1654122515, 265992249, 1741236395, 1611037185, 437546499, 1010846217, 2127158811, 1517853265, 700108531, 1277390041, 1363363467, 978637729, 44006115, 46231721, 2028818939, 1019409905, 741990867, 1719707001, 1492840555, 2069614913, 1129608131, 1036016457, 344592859, 1333343633, 603758771, 212394521, 135505483, 1048965857, 779278499, 1677429225, 903585211, 1062066481, 387615635, 1357030073, 358672427, 676182145, 829041027, 1036090505, 902657435, 386097361, 635118195, 335832921, 593901067, 540910113, 47834723, 1861268265, 2147162491, 426527857, 414573907, 796176377, 1045893099, 1257254849, 277974851, 1089973705, 1890584923, 1533746193, 777147443, 1596587161, 437712331, 1141891425, 764453923, 752151657, 1927791931, 502419377, 696774419, 1806355769, 272197547, 408368897, 435459, 622259977, 1582157083, 1745119057, 526267891, 336437721, 1577182603, 2140188833, 793973219, 534525353, 356360443, 1622401777, 84715731, 939063929, 576974699, 1452723777, 1376086723, 1624457289, 1656930523, 1763918481, 2113587123, 1101223705, 469960011, 1498681313, 467480483, 54169321, 412658875, 1988429361, 1774195347, 1339242425, 657631019, 482538881, 1271521411, 1138794889, 1831527579, 740011473, 841222515, 534715481, 2079741195, 1223556897, 1508572515, 186906665, 429189243, 892975473, 1495149651, 934118649, 738299627, 317697217, 1703937603, 921899721, 933378139, 1598138641, 1188428595, 1337258393, 1622660299, 1995603553, 1664645923, 617378153, 1607357499, 1940257969, 1470297619, 2096882233, 1496098475, 842068993, 177462275, 2076087305, 121945115, 1374237777, 705469683, 454612697, 673416331, 2096467361, 75606243, 912784041, 501280763, 1235079153, 751464403, 1983008633, 839904875, 77253441, 1494311363, 1828136265, 1814982619, 879120273, 1824779955, 889113625, 1796564043, 629877985, 495093411, 1596625897, 828947387, 1341469489, 588290451, 46451897, 1426548267, 1698771585, 1648662403, 1045481097, 24859547, 1477245649, 49803379, 2035994969, 1030321163, 742874145, 1626805347, 927481129, 1661056891, 1619011185, 1207006035, 1260870137, 997133803, 1077422529, 1785298243, 1014986697, 759654235, 1865496081, 61121075, 757130905, 1845212107, 2109610849, 345723427, 267712105, 642245435, 1444063665, 736689427, 13498169, 2040718763, 1385410817, 683414275, 221722889, 1622059803, 1294401873, 1757807603, 1044712409, 1185424267, 2005101217, 1361788899, 862240681, 1507278587, 1283505393, 577976019, 506242169, 2130636139, 1785186369, 125327555, 1865157193, 1473060571, 641883281, 1331172787, 62603545, 1279968075, 673925601, 1113775523, 617322729, 122407611, 1620992049, 34349203, 649552313, 1440687403, 650669953, 1675251331, 2047994761, 1505673883, 1339508689, 928438131, 2104985177, 2126484235, 256489761, 1727933283, 1616740905, 591496827, 1883214705, 1680849491, 1726099193, 1671400683, 935962305, 1310585923, 1587338441, 2023724635, 3785489, 1136544051, 342743961, 417501899, 1567799393, 1354311971, 458128233, 1297379899, 1513641649, 1700398099, 874581049, 681321643, 511667713, 1233078787, 645979657, 1368103451, 247320145, 2055891699, 1519534297, 1351598731, 876234657, 1682953955, 64128169, 270568955, 1046260209, 1694957011, 753400185, 3206251, 1828570433, 205148099, 1953623881, 1285475803, 867658129, 79117491, 1255716377, 379789899, 1714710241, 427701411, 18718185, 557963707, 1031834929, 1169336211, 2024470201, 1622795307, 106474625, 1066075523, 1143214217, 1559572891, 1215993041, 1849736819, 154483545, 1459139083, 922031649, 989872739, 1935918889, 559175035, 964165745, 752419155, 131990521, 462621675, 1587815361, 1068329795, 709575113, 1084933467, 123424785, 1713565747, 580636825, 946631115, 454055265, 647102499, 1943601257, 1542717755, 353829809, 1123420947, 1408573753, 488137643, 989080321, 1541243139, 345735945, 1088129307, 1269668689, 2119815667, 1291875801, 1557815691, 2014979233, 217017827, 347163049, 129817851, 1949406961, 1938146515, 526667385, 749071211, 1901904449, 374818499, 164156489, 1906539739, 1371895441, 1809933235, 660024089, 555647307, 1688634337, 836012963, 555786985, 105572539, 2073803313, 755248787, 899648441, 748135211, 686942593, 1683405955, 1770468745, 1914609819, 1995891153, 1186309491, 2039738457, 1561645323, 1749644065, 738023779, 1566247977, 607790203, 287927665, 552421459, 723179769, 1514769131, 432513217, 1847059011, 747284169, 745075803, 2039864593, 1238538035, 1957348761, 597250251, 999748193, 623236899, 1184138601, 1495699515, 464433329, 62722579, 491402809, 236429995, 1290921985, 1322694659, 612837385, 362706971, 955672657, 322189555, 1922018009, 42467467, 136511905, 436864227, 1392578217, 128723963, 1124041713, 1290767315, 1923195769, 2069752427, 1552203585, 1422867907, 1009826121, 1843080155, 1970045841, 1675004595, 909549593, 1119674443, 679583969, 442884771, 836020201, 1030158267, 804251441, 1996535187, 445980857, 1886937643, 865347201, 1094546307, 926636681, 3870619, 273428177, 1605733491, 731096409, 672395275, 1749471265, 150302819, 188961065, 1928524667, 1280563825, 1064079187, 1301851641, 381880811, 1312038337, 140335427, 1918569417, 1658463067, 1273588241, 1305296435, 664451737, 828977099, 1141280609, 1534373411, 1082198633, 1273765691, 50290097, 1722751251, 1293962041, 848945579, 2037949697, 292220675, 591645961, 919889691, 194524497, 1478074355, 675274713, 1486397323, 693427873, 1520409571, 734122921, 1458469627, 2143711473, 1883525843, 597686393, 1666771307, 326483009, 1990341827, 413769289, 1749408475, 330076305, 1268167091, 343348505, 1384005451, 918928865, 1647458723, 1614392553, 1301677755, 1870468145, 1655192723, 1686877625, 1666982187, 1262445441, 1161767555, 2051047305, 1850375835, 1232763857, 1480618867, 2083805785, 1324748555, 2079141153, 552109923, 1780258345, 1417593467, 1073170289, 123131475, 1817674489, 1207929067, 1625922241, 1031655491, 146567369, 184439387, 1935013649, 1360192819, 1483452313, 953945803, 962538593, 1484686627, 245272425, 994356795, 1611205297, 718020627, 544694329, 1100947627, 1703436801, 312092163, 1574007305, 192763419, 2022900305, 1812596467, 1259410649, 1980513931, 548387745, 498086627, 200513705, 1015269883, 2139512305, 1552161235, 794774905, 1536616555, 2066725185, 718285763, 741573449, 132352475, 562404753, 35772595, 1595443737, 660774475, 343071457, 406425763, 1498395113, 1037571515, 1329807665, 788186003, 1350781625, 1011015723, 351510657, 1599857027, 2140578953, 592244123, 1468123345, 1331059315, 1215696729, 1757097483, 1748797985, 1121361507, 1726405417, 266178939, 1091810417, 2007768403, 72833017, 1694435307, 921180097, 1014581059, 2091832777, 1272283483, 1692107793, 849579059, 605922457, 284290507, 547408225, 725834787, 1575818345, 774913339, 1204533169, 252978963, 1414493497, 1915183019, 908140289, 1097096451, 556799753, 2056865051, 887541585, 1845849587, 939739609, 1910693259, 859019425, 842779107, 1620467113, 2137790715, 390023921, 279896275, 316646009, 1528293227, 2024977985, 542712515, 63858761, 1941190875, 334998161, 1719140275, 857407257, 409599307, 1183381473, 1266411427, 1243002601, 355280059, 1682075185, 452479635, 461103033, 841785131, 900783489, 2123602051, 339593609, 105012379, 1868699089, 1677148531, 1834533977, 207834379, 1916069665, 1035973987, 1856118825, 1812947067, 615063921, 258761811, 311962873, 1690404587, 892310721, 877641283, 1530018505, 1281339483, 360321297, 1367290675, 665885081, 279629003, 2127259233, 1656959779, 1533843817, 732875835, 1330078897, 1384590867, 631802425, 2066914987, 272817153, 214537219, 979352585, 1797796891, 1972608081, 2097927411, 1276542681, 1662811275, 635467169, 1732403427, 380248745, 1722247163, 468793329, 197437395, 1260451705, 1490806379, 1895740225, 104667587, 746212681, 1387784155, 1610790801, 1469654707, 763261977, 2090097739, 1376261345, 184106659, 1603189737, 1519727547, 1132108593, 1705038227, 41252025, 2082037291, 1383537281, 300306307, 87420553, 2116733851, 1176199889, 891496563, 1205631321, 1357802507, 1591100449, 1621347427, 1850631465, 806629243, 1068994161, 1301785427, 337248761, 1044841963, 1086329281, 1409365315, 826712009, 865918811, 2050072081, 212195891, 2395801, 252095435, 1491010401, 234752547, 874323561, 985684795, 192680369, 874853651, 1367514937, 331406763, 418224385, 1674169091, 1986027785, 1143612187, 1872324945, 941439987, 1682617305, 1622743947, 1035358881, 197392355, 456058793, 959821563, 1654400241, 1288007379, 1428376697, 1273161067, 1226027073, 192680131, 859255369, 1273927387, 2057749649, 881151411, 1799547161, 719436619, 1005597153, 1706136995, 1186447593, 353387195, 32229425, 1307859091, 1114638777, 1359551787, 273045377, 139724419, 528421769, 1913010843, 279818193, 1641680755, 889269849, 1297910539, 1931518241, 2055398243, 1391176233, 585891451, 1732180849, 825094739, 98359033, 1754236139, 1050250945, 1250798659, 200017097, 680332891, 134359825, 1125613875, 1249477529, 1661307595, 870031457, 1005838627, 352232297, 1650780731, 292142769, 1928215571, 350073913, 1926372523, 1965118977, 895812099, 573703689, 1822364187, 1475884625, 1043964659, 1570760921, 28883595, 1068838817, 1858113251, 1529130153, 1041696251, 1077940721, 1387345363, 770089337, 724362347, 1710337345, 1595279299, 621090633, 106448347, 1491325329, 1547465907, 157834777, 2052201035, 155274977, 1789193379, 747750889, 1268666811, 882242865, 317906835, 409706169, 1744559147, 337548417, 1356643715, 806959241, 1221896603, 68746449, 152827507, 298247001, 414034443, 1947467297, 1516042851, 158986025, 194432379, 1883203697, 959396179, 1692445689, 1520108523, 331090881, 1190470467, 2015521225, 1378893147, 871086097, 1406412851, 598702233, 1671915979, 348208481, 2074392611, 722544745, 698120507, 1980787633, 1306673939, 750373177, 1332108203, 1239290625, 1889220867, 181709577, 1267138843, 1672479569, 778111475, 353770969, 1562073483, 1893534881, 1597515235, 1133212073, 1011569915, 165478129, 478674131, 1382741625, 1840898923, 748202561, 806026947, 249822281, 687142107, 1874452113, 767466419, 619631385, 1105557835, 1056664545, 684934051, 1042074345, 88039611, 1886986801, 1939629715, 1097348025, 2012322603, 50319745, 1518367875, 67394953, 1771444379, 1432177105, 1239997811, 992843865, 1239533835]\n",
      "[1, 48271, 182605794, 1291394886, 1914720637, 2078669041, 407355683, 1105902161, 854716505, 564586691, 1596680831, 192302371, 1203428207, 1250328747, 1738531149, 1271135913, 1098894339, 1882556969, 2136927794, 1559527823, 2075782095, 638022372, 914937185, 1931656580, 1402304087, 1936030137, 2064876628, 353718330, 1842513780, 1947433875, 631416347, 2010567813, 890442452, 662405787, 1105724094, 849178936, 1696049367, 1479919876, 1168816941, 1272185027, 201068705, 1308858262, 928270262, 1287522347, 1814467857, 1057382352, 1659675143, 153892771, 412013968, 480194461, 1675824860, 180318217, 389431516, 1324346645, 1243696899, 1587659744, 674592135, 942409124, 884730203, 1951824771, 2130959757, 1239222494, 352020689, 1500063655, 719080959, 978785428, 163677341, 276590098, 374787159, 948709761, 80100956, 1082682476, 1003765604, 1243427070, 1447645967, 200599677, 143244144, 1788215331, 837051536, 409875951, 355190910, 2058462609, 2127735996, 243877847, 1869683330, 1336273608, 1444510476, 1318652553, 1262088783, 324062450, 547639202, 1715708819, 1273555394, 1925544752, 583514338, 425095546, 580853881, 851194519, 206008598, 1391748448, 1358404307, 268625699, 324855843, 190807059, 2037666653, 1161007069, 91491940, 1181057508, 1578591759, 1040552188, 999647265, 15580725, 477900025, 442770701, 1227253027, 246980175, 1298302928, 365367087, 1498947413, 524054552, 1427401579, 88805914, 372915282, 785648268, 1613822255, 844776180, 1771495544, 1210064531, 1617261148, 1487339364, 685153140, 1779057140, 1143645057, 1675916665, 316870078, 1257001204, 1702155946, 2045335146, 1959645388, 1682841092, 1705920510, 1228493995, 20204387, 328389139, 1095330162, 1634860762, 634782546, 1291602570, 1202416766, 1819184117, 1082702230, 1957310938, 665754786, 1703981298, 2110072011, 136665771, 2071152004, 477198999, 963283007, 1318106053, 651791047, 1970201187, 120706635, 506843774, 1722108130, 937051507, 2112721283, 1318139310, 109656047, 1807338529, 514973984, 1185967639, 224840443, 2038155762, 1148467491, 383910756, 1119712913, 1793595727, 708625565, 945118699, 682122561, 1518866227, 2099934937, 436238233, 1578586308, 777426967, 2047876379, 73452005, 106232158, 1889033429, 1229515992, 2108381340, 130664516, 147380597, 1742958923, 255849967, 2102786807, 659901595, 484956294, 1753515374, 872671849, 1851087174, 1329391778, 2111659831, 1620397346, 403414085, 1967069686, 1431360801, 78366493, 1110281236, 1783648424, 1578699380, 1940558185, 1594949642, 377940385, 686743070, 1217156878, 374559665, 704765122, 1428751935, 847330980, 540194818, 997617804, 835716556, 393565781, 1173473289, 552976400, 1649555837, 1311144361, 1758889094, 421988682, 933277027, 303423551, 719757781, 1437405485, 1951015512, 1721924214, 649176859, 334783765, 532676640, 1012383909, 645800207, 549172245, 555299827, 2134550910, 641593550, 1500578663, 1956712010, 1819672356, 1028166882, 148995205, 224806752, 411857501, 1517310492, 17494750, 528003979, 944147713, 1056297589, 836687898, 36575229, 291321225, 643931419, 535219871, 1370119631, 990831342, 1811407345, 1499779243, 2022614836, 444221348, 384474013, 391404149, 2056033720, 846952015, 1574528126, 305935522, 1716025690, 1536849906, 459226911, 1016016547, 2050693698, 776787693, 1254252183, 665722, 2070295604, 2087587539, 1415443241, 520973359, 871505919, 1405054966, 1579724232, 2019065196, 898240668, 1280452098, 1976378251, 1941019693, 250082193, 711958516, 768722895, 652928032, 1019029300, 1450405765, 274822821, 965904972, 1181443395, 878390313, 861672455, 1327800209, 446960277, 1598813305, 49739769, 101672053, 811536968, 1451777401, 2060554767, 39079758, 928356352, 1148205443, 619493630, 2014712902, 1262054400, 811844304, 1254807928, 1057228853, 692575855, 1451163856, 361411483, 1684031312, 1176971661, 1919166746, 1948431880, 1561475468, 1601273422, 690446891, 1763157668, 311894124, 1580894134, 509346169, 108649296, 455101242, 1581827419, 462789817, 1202360313, 1241625001, 359319148, 1616659936, 383522323, 1697016393, 914591688, 286556422, 422876035, 817020750, 2018929742, 802191575, 1311877768, 653956392, 1266870979, 1384695337, 200099452, 1766686933, 1021836826, 1681023550, 2018180155, 1126099497, 842746823, 449167912, 789380040, 1361562119, 228029814, 1373460719, 1207216665, 1586874870, 1442644927, 1461049948, 831588781, 857717927, 1564823704, 15216206, 62072552, 564470027, 260160181, 1855213042, 773186835, 1383411072, 484369400, 1340842511, 799211548, 1344398800, 666146107, 1266084466, 2073631960, 2075554490, 388719652, 1321697853, 85393440, 1005623647, 738707549, 1333622991, 198112442, 341007691, 320098006, 306007461, 893625865, 1857595773, 1973361645, 207835816, 1546558999, 975420068, 923141953, 699538013, 366560095, 1104578112, 1366056636, 287011574, 918681757, 149781597, 1677512985, 63421506, 1255319151, 2112154169, 1860266827, 2058790459, 773514170, 4329681, 692117792, 814841253, 2039128758, 871317173, 884031388, 431580611, 88814034, 764875802, 1780979118, 1577648274, 594744340, 1342643044, 1813394111, 766196714, 1118212860, 251497715, 321144274, 1418286208, 314880008, 1831096349, 572435706, 371878377, 125330894, 386150675, 1868660612, 1360776911, 979960092, 1031308463, 1472396366, 926202074, 238267161, 1619198946, 537506154, 62136680, 1512509068, 176190722, 867099542, 1305711852, 1519252089, 1398526716, 2134664591, 1834121807, 585430828, 594187515, 233947233, 1397868217, 413030420, 153225072, 393770244, 305688527, 530748280, 270315170, 272931898, 2030957660, 1581236663, 2011177999, 279959800, 1972398876, 978653651, 245120715, 1734622442, 1572501252, 1250948430, 1586478184, 1621567844, 1069948221, 488865541, 1478216375, 543498756, 1568219124, 706777854, 1948574192, 1988567079, 1897416803, 28953063, 1728933523, 1840599019, 1861802465, 1023644712, 902659129, 1963101976, 1032075974, 2013697848, 1656506647, 1826244939, 465741119, 1930738453, 33068610, 674523589, 1928592452, 1670153042, 1273898355, 1300746007, 183632911, 1479235712, 355791202, 970386683, 622266729, 583504970, 2120376465, 1474242348, 1986769669, 1033984573, 1801883356, 1328806682, 1785778226, 1307156666, 394908332, 1555243200, 1411175374, 665195514, 477166350, 1534766775, 836141819, 1594083231, 1505087944, 580883167, 117375378, 765010652, 1847872527, 773989025, 1451218916, 871729096, 1440613698, 48359004, 22757795, 1177378828, 98688533, 675447397, 1424571833, 933090156, 2020391745, 507578037, 658495404, 1326187237, 2044083804, 1685657822, 233340932, 48400057, 2004427158, 827628233, 804150002, 1357827017, 319547520, 1650785166, 522542404, 1448949469, 844918956, 73501252, 335950448, 1015056911, 825260929, 348651909, 2094441447, 1547954671, 1773910123, 1800090502, 685297128, 139567300, 396937661, 728735597, 1013864927, 1269059734, 1811389239, 625784517, 739441405, 250363968, 1428617659, 808145125, 932881120, 519949577, 844648878, 2068951643, 1637755518, 781112367, 1704677078, 1336330039, 2021007630, 172191814, 1109339704, 1432113839, 2068525439, 391815057, 416137318, 1949926787, 707687267, 749692528, 1161083491, 1632974655, 1932308370, 652604472, 432850069, 1237279036, 1028640039, 1513920282, 1724908659, 829917105, 1768624317, 52019422, 621136019, 1837577382, 2033250834, 605889173, 296481390, 622153082, 1540101574, 654186708, 1647036380, 2101003393, 472070281, 355555834, 346356190, 799455595, 239889655, 481711881, 1908761682, 49277287, 1399523548, 860618182, 1976595754, 1702688771, 1995526957, 702755162, 1042736890, 1230698804, 1221840923, 992312925, 314456340, 707571144, 1586770136, 681997307, 1915181334, 694653811, 824446523, 1838649176, 82727833, 1183126970, 541860552, 1947368779, 1784134625, 1425787734, 1643788858, 2106175162, 1010428628, 751711524, 1983275292, 2008120519, 868714363, 1945325051, 1915588099, 1002254303, 1305860497, 104560296, 643477766, 111772378, 885537174, 102932619, 1530776238, 1482458522, 1305230128, 1888273002, 1030166274, 24882322, 651206589, 1675116480, 345845589, 1922038488, 983852907, 2110304039, 599471124, 1875966926, 1856541897, 493837130, 943620530, 1378450760, 1563317312, 314611972, 1777632475, 1093117546, 56372529, 296566610, 440840408, 391876445, 1231913819, 1889771519, 350636383, 1250221786, 870384012, 936573344, 506151580, 521466261, 1042058244, 684032443, 1368983428, 1979751151, 1545518421, 137803311, 1146770522, 73898743, 195885686, 227451165, 1358782251, 1332491347, 1407099740, 1498762224, 174730921, 1268005822, 330126968, 1230211588, 1325757504, 627794984, 1149929847, 106336881, 501666421, 914204519, 924874446, 576845383, 630515791, 1489502077, 2002257307, 1313449315, 1352173984, 172414746, 1133072041, 259485668, 1508050724, 1863315845, 1061566694, 1778585007, 1975633131, 333070525, 1584730833, 1027049956, 2068435081, 325111333, 1786146614, 1909744638, 252906129, 1734703411, 1185988557, 1234573221, 1412746641, 1349897226, 1940178972, 469828095, 1644661425, 1276183879, 2103609014, 1693950046, 1075327294, 296577037, 944162125, 1751979241, 1883923451, 1526387359, 80277719, 1025274661, 125032369, 1008435929, 1198902210, 1819259554, 429154363, 1082997411, 1173607460, 587093800, 1410613988, 1483819319, 420269058, 1677169156, 646321023, 2067161264, 1113716689, 112675721, 1541134187, 1107324950, 814687620, 1065561156, 1321731979, 1732689586, 613406097, 221183451, 1605153984, 1177977904, 1099398718, 459631914, 1238563537, 755762047, 2085059148, 1774049159, 2069046317, 1912796878, 1558695173, 537639591, 60823166, 384900537, 1652791330, 725320733, 1531205602, 733451696, 1031413174, 84450106, 567104720, 737890811, 563568639, 1846416620, 1362862579, 725508711, 2015157052, 1226782580, 1160353155, 738663951, 1376587580, 1820068706, 833024909, 1461575911, 450544990, 690319121, 2038022939, 1179419399, 1962327159, 138106566, 752807098, 1180636671, 591721755, 1468330505, 84037620, 2130829484, 1393265452, 1571260393, 1482985757, 985587049, 2067210288, 1332670546, 1467280081, 918628244, 1861622868, 944252513, 1820131095, 1697120681, 1653710442, 2142103145, 123309245, 1583379558, 224163841, 1590155325, 879698354, 1725093803, 1177068541, 153210285, 1827470614, 1648240575, 99158122, 1868141546, 2074745789, 6619327, 1693953861, 1259481159, 1152979519, 1288165997, 671842302, 1349206495, 810157576, 1439139226, 1888565090, 97160593, 2082183302, 393040301, 1577831973, 872144181, 2345263, 1539040629, 980918141, 32651508, 2015429417, 1489211613, 866171445, 1602698152, 744112017, 219692885, 521002949, 152361162, 1641643574, 1630386254, 1541655225, 488546484, 1109401457, 118025608, 2087491924, 1094978870, 1857513806, 164216235, 519738608, 1398382514, 1616340790, 10411286, 52013108, 316352925, 2063312505, 13864642, 1392719765, 1000206980, 1263779726, 343193417, 600579049, 1669523426, 946475477, 1750643989, 1854483569, 2068017651, 1650184273, 1581607459, 582518892, 1766045561, 126940072, 753370621, 465167993, 35177071, 1520313111, 1075512150, 629826425, 425370596, 972890549, 1227298183, 279221804, 708332312, 1821888665, 637436271, 540543225, 635702925, 622060692, 1375311178, 336409880, 1717462513, 26772588, 1701923501, 1562400786, 1170142013, 810226129, 453293795, 233899162, 1224916623, 1283055982, 966927642, 1154623084, 1167797173, 1439087780, 1552698871, 1000438094, 1682465385, 750037089, 613518346, 1344587636, 1191514075, 1668880371, 2117822277, 587601279, 137329033, 1875217301, 31131874, 1675620601, 1057950263, 1156019613, 2007655475, 2042895556, 162313436, 1011524900, 2130249708, 1324185567, 2058235349, 1895086771, 1372611682, 1025540931, 93249657, 128468935, 1538672496, 390639274, 1641974594]\n"
     ]
    }
   ],
   "source": [
    "## Donnez votre code ici\n",
    "print(vonNeumann(1,1000))\n",
    "print(randu(1,1000))\n",
    "print(minstd(1,1000))"
   ]
  },
  {
   "cell_type": "markdown",
   "id": "21a308ca",
   "metadata": {},
   "source": [
    "##### Test Visuel\n",
    "\n",
    "**Objectif :** vérifier le caractère uniforme des valeurs générées.\n",
    "\n",
    "**Question 8 :** Tracez, pour chacun des générateurs, l’histogramme des sorties observées pour une suite de $k = 100$ valeurs. Que constatez-vous ? Expliquez."
   ]
  },
  {
   "cell_type": "code",
   "execution_count": 18,
   "id": "fc24be32",
   "metadata": {},
   "outputs": [],
   "source": [
    "import matplotlib.pyplot as plt"
   ]
  },
  {
   "cell_type": "code",
   "execution_count": 19,
   "id": "2c47a9ff",
   "metadata": {},
   "outputs": [
    {
     "data": {
      "image/png": "[encoded data removed]",
      "text/plain": [
       "<Figure size 1500x400 with 3 Axes>"
      ]
     },
     "metadata": {},
     "output_type": "display_data"
    }
   ],
   "source": [
    "## Donnez votre code ici\n",
    "def plot_histograms():\n",
    "    k = 100\n",
    "    seed = 1\n",
    "    \n",
    "    vn = vonNeumann(seed, k)\n",
    "    rd = randu(seed, k)\n",
    "    ms = minstd(seed, k)\n",
    "\n",
    "    plt.figure(figsize=(15, 4))\n",
    "\n",
    "    plt.subplot(1, 3, 1)\n",
    "    plt.hist(vn, bins=10, edgecolor='black')\n",
    "    plt.title(\"Von Neumann\")\n",
    "\n",
    "    plt.subplot(1, 3, 2)\n",
    "    plt.hist(randu(seed, k), bins=10, edgecolor='black')\n",
    "    plt.title(\"RANDU\")\n",
    "\n",
    "    plt.subplot(1, 3, 3)\n",
    "    plt.hist(minstd(seed, k), bins=10, edgecolor='black')\n",
    "    plt.title(\"Minimal Standard\")\n",
    "\n",
    "    plt.tight_layout()\n",
    "    plt.show()\n",
    "\n",
    "plot_histograms()\n"
   ]
  },
  {
   "cell_type": "markdown",
   "id": "2e8bc2e8",
   "metadata": {},
   "source": [
    "**Commentaires / remarques :** <span style=\"color:red\">Donnez vos commentaires ici</span>"
   ]
  },
  {
   "cell_type": "markdown",
   "id": "3e241a94",
   "metadata": {},
   "source": [
    "Avec la méthode de von Neumann, l’histogramme montre une forte concentration des valeurs proches de 0. On observe peu ou pas de valeurs élevées.\n",
    "\n",
    "Ce résultat est cohérent car le générateur de Von Neumann est très instable en effet, si une valeur intermédiaire devient trop petite, le carré reste petit et les chiffres centraux deviennent 0 ou très faibles.\n",
    "Cela entraîne une convergence vers 0, ou un cycle très court.\n",
    "\n",
    "On peut donc dire que le générateur de pseudo-aléatoire est mauvais.\n",
    "\n",
    "\n",
    "Avec la méthode RANDU, l’histogramme montre une répartition un peu plus variée que Von Neumann, mais avec des trous ou des accumulations.\n",
    "\n",
    "RANDU est bien meilleur que von Neumann cependant il présente encore des défault d'accumulation ou d'absence de valeurs.\n",
    "\n",
    "\n",
    "Avec la méthode MINSTD l’histogramme montre une répartition relativement uniforme.\n",
    "\n",
    "Le générateur Minimal Standard semble être le plus fiable des trois testés ici. Il produit des séquences bien distribuées, sans convergence ni accumulation apparents."
   ]
  },
  {
   "cell_type": "markdown",
   "id": "328b849d",
   "metadata": {},
   "source": [
    "**Question 9 :** Tracez la valeur obtenue en fonction de la valeur précédente de l’algorithme. Plus précisément, à partir d’un vecteur $u$ de taille $n$, exécutez\n",
    "`plot(u[0:(n-2)], u[1:n-1])`\n",
    "\n",
    "Commentez."
   ]
  },
  {
   "cell_type": "code",
   "execution_count": 20,
   "id": "3ffbe5e3",
   "metadata": {
    "scrolled": false
   },
   "outputs": [
    {
     "data": {
      "image/png": "[encoded data removed]",
      "text/plain": [
       "<Figure size 640x480 with 1 Axes>"
      ]
     },
     "metadata": {},
     "output_type": "display_data"
    },
    {
     "data": {
      "image/png": "[encoded data removed]",
      "text/plain": [
       "<Figure size 640x480 with 1 Axes>"
      ]
     },
     "metadata": {},
     "output_type": "display_data"
    },
    {
     "data": {
      "image/png": "[encoded data removed]",
      "text/plain": [
       "<Figure size 640x480 with 1 Axes>"
      ]
     },
     "metadata": {},
     "output_type": "display_data"
    }
   ],
   "source": [
    "## Donnez votre code ici\n",
    "def plot_consecutive_values(generator_func, seed, n, title):\n",
    "    if generator_func == vonNeumann:\n",
    "        u = generator_func(seed, n)[2]\n",
    "    else:\n",
    "        u = generator_func(seed, n)\n",
    "    plt.scatter(u[:-1], u[1:], s=5)\n",
    "    plt.title(title)\n",
    "    plt.xlabel(\"u[i]\")\n",
    "    plt.ylabel(\"u[i+1]\")\n",
    "    plt.grid(True)\n",
    "    plt.show()\n",
    "\n",
    "# Générer et tracer les nuages de points pour chaque générateur\n",
    "n = 1000\n",
    "seed = 1\n",
    "\n",
    "plot_consecutive_values(vonNeumann, seed, n, \"Von Neumann\")\n",
    "plot_consecutive_values(randu, seed, n, \"RANDU\")\n",
    "plot_consecutive_values(minstd, seed, n, \"Minimal Standard\")\n"
   ]
  },
  {
   "cell_type": "markdown",
   "id": "638b8458",
   "metadata": {},
   "source": [
    "**Commentaires / remarques :** <span style=\"color:red\">Donnez vos commentaires ici</span>"
   ]
  },
  {
   "cell_type": "markdown",
   "id": "a17acd95",
   "metadata": {},
   "source": [
    "\n",
    "!!!!!!!!!!! A voir avec les autres pour les points ou les traites (scatter ou plot)\n",
    "\n",
    "Von Neumann :\n",
    "Les points sont souvent regroupés près de l’origine (0, 0), ou suivent quelques motifs discrets.\n",
    "\n",
    "Cela reflète le fait que les valeurs convergent vers zéro ou se répètent.\n",
    "\n",
    "🔹 RANDU :\n",
    "Les points peuvent apparaître alignés selon des motifs diagonaux ou des grilles.\n",
    "\n",
    "Cela illustre les corrélations non désirées dans les valeurs générées.\n",
    "\n",
    "Ce défaut est bien documenté pour RANDU.\n",
    "\n",
    "🔹 Minimal Standard :\n",
    "Les points sont plus uniformément répartis dans le carré\n",
    "\n",
    "Cela montre un meilleur comportement pseudo-aléatoire, sans motif évident."
   ]
  },
  {
   "cell_type": "markdown",
   "id": "8e8e915d",
   "metadata": {},
   "source": [
    "### Autres lois"
   ]
  },
  {
   "cell_type": "markdown",
   "id": "97253cf7",
   "metadata": {},
   "source": [
    "L'objectif de cette section est d'étudier comment les différents phénomènes aléatoires peuvent être simulés à partir de la distribution uniforme sur $[0, 1]$, $U \\sim \\mathcal{U}_{[0,1]}$. \n",
    "\n",
    "Afin de génerer un nombre à partir de la loi uniforme, nous pouvons nous servir de la fonction\n",
    "[`random.random()`](https://docs.python.org/3/library/random.html#random.random) ou [`random.uniform(a, b)`](https://docs.python.org/3/library/random.html#random.uniform), où $a$ et $b$ sont des bornes d'intervalle sur lequel la variable aléatoire est définie. "
   ]
  },
  {
   "cell_type": "code",
   "execution_count": 21,
   "id": "8d79be4b",
   "metadata": {
    "ExecuteTime": {
     "end_time": "2023-03-13T01:23:14.102322Z",
     "start_time": "2023-03-13T01:23:14.089364Z"
    }
   },
   "outputs": [],
   "source": [
    "# nombre pseudo-aléatoire réel de la loi uniforme sur [0, 1) et la loi uniforme\n",
    "from random import random, uniform"
   ]
  },
  {
   "cell_type": "code",
   "execution_count": 22,
   "id": "2e3e662b",
   "metadata": {
    "ExecuteTime": {
     "end_time": "2023-03-13T01:23:14.118107Z",
     "start_time": "2023-03-13T01:23:14.104302Z"
    }
   },
   "outputs": [
    {
     "name": "stdout",
     "output_type": "stream",
     "text": [
      "0.4637183190983307\n",
      "0.011645333308903494\n"
     ]
    }
   ],
   "source": [
    "# nombre aléatoire entre 0 et 1\n",
    "u1 = random()\n",
    "print(u1)\n",
    "u2 = uniform(a=0, b=1)\n",
    "print(u2)"
   ]
  },
  {
   "cell_type": "markdown",
   "id": "8ecdb240",
   "metadata": {},
   "source": [
    "Nous allons considérer 2 cas : discrèt et continue."
   ]
  },
  {
   "cell_type": "markdown",
   "id": "fcaad3cf",
   "metadata": {},
   "source": [
    "### Lois discrètes"
   ]
  },
  {
   "cell_type": "markdown",
   "id": "57ed4294",
   "metadata": {},
   "source": [
    "Soit $U \\sim \\mathcal{U}_{[0,1]}$, $X$ une v.a.r. discrète à valeurs $\\{x_1, x_2, ..., x_n\\}$ et $\\mathbb{P}(X = x_i) = p_i$, $\\sum_{i}p_i = 1$.\n",
    "\n",
    "Afin de simuler la distribution de $X$, nous divisons l'intervalle $[0, 1]$ en sous-intervalles tels que la longeur de sous-intervalle $i$ est $p_i$ :\n",
    "\n",
    "$$X = \\left\\{\\begin{array}{ll} x_0 & \\text{si } U < p_0 \\\\ \n",
    "x_1 & \\text{si } p_0 \\leq U < p_0 + p_1 \\\\  \n",
    "... \\\\\n",
    "x_j & \\text{si } \\sum_{k=0}^{j-1}p_k \\leq U < \\sum_{k=0}^{j}p_k \n",
    "\\end{array}\\right.$$\n",
    "\n",
    "Autrement dit :\n",
    "$$X = x_j \\text{ si } F(x_{j-1}) \\leq U < F(x_j)$$\n",
    "où $F(x)$ est la fonction de répartition de $X$.\n",
    "\n",
    "$$\\mathbb{P}(X=x_j) = \\mathbb{P}\\left(\\sum_{k=0}^{j_1}p_k \\leq U < \\sum_{k=0}^{j}p_k\\right) = p_j$$"
   ]
  },
  {
   "cell_type": "markdown",
   "id": "be50d610",
   "metadata": {},
   "source": [
    "#### Loi de Bernoulli"
   ]
  },
  {
   "cell_type": "markdown",
   "id": "fa6c3197",
   "metadata": {},
   "source": [
    "Soit $X$ une v.a.r. discrète qui suit la loi de Bernoulli avec le paramètre $p$, $\\mathcal{B}(p)$, e.g. un lancement d'une pièce. Alors, nous pouvons présenter la v.a.r. $X$ somme suit :\n",
    "\n",
    "$$X = \\left\\{\\begin{array}{ll} 1 & \\text{si } U < p \\\\ \n",
    "0 & \\text{si } U \\geq p\\end{array}\\right.$$\n",
    "\n",
    "Alors : \n",
    "$$\\mathbb{P}(succès) = \\mathbb{P}(X = 1) = \\mathbb{P}(U < p) = p$$\n",
    "\n",
    "Notons que dans ce cas-là, l'intervalle $[0, 1]$ est divisé en 2 partie : un de la langueur $p$ et l'autre de longueur $1-p$. La valeur de $X$ est alors définie par la condition dans quelle partie la valeur de $U$ tombe. \n",
    "\n",
    "Ecrivez la fonction `bernoulli(p)` qui calcule une valeur de $X$ qui suit la loi de Bernoulli avec le paramètre $p$.\n",
    "\n",
    "```\n",
    "def bernoulli(p=0.5):\n",
    "    \"\"\"\n",
    "    Simulation d'un Bernoulli avec le paramètre p.\n",
    "    \n",
    "    Keyword arguments:\n",
    "    p -- probabilité de succès. Par défaut, 0.5 \n",
    "    \n",
    "    Return:\n",
    "    valeur binaire de réalisation de la loi de Bernoulli\n",
    "    \"\"\"\n",
    "```"
   ]
  },
  {
   "cell_type": "code",
   "execution_count": 23,
   "id": "e7f105a3",
   "metadata": {
    "ExecuteTime": {
     "end_time": "2023-03-13T01:23:14.133624Z",
     "start_time": "2023-03-13T01:23:14.121104Z"
    }
   },
   "outputs": [],
   "source": [
    "## Donnez votre code ici\n",
    "def bernoulli(p=0.5):\n",
    "    nb = random()\n",
    "    if nb >= p:\n",
    "        return 0\n",
    "    else:\n",
    "        return 1"
   ]
  },
  {
   "cell_type": "markdown",
   "id": "26ea3e38",
   "metadata": {},
   "source": [
    "#### Lancement d'une pièce"
   ]
  },
  {
   "cell_type": "markdown",
   "id": "9e310e3e",
   "metadata": {},
   "source": [
    "Ecrivez une simulation de 1000 lancements d'une pièce équilibrée et tracer la probabilité estimée (proportion de nombre de piles) en fonction de nombre de lancements (de 0 jusqu'à 1000).\n",
    "\n",
    "```\n",
    "def coin_toss(nsimu=1000, p=0.5):\n",
    "    \"\"\"\n",
    "    Simulation de nsimu réalisation de Bernoulli (lancement d'une pièce) avec le paramètre p.\n",
    "    \n",
    "    \n",
    "    Keyword arguments:\n",
    "    nsimu -- nombre de simulations. Par défaut, 1000\n",
    "    p -- probabilité de succès. Par défaut, 0.5 \n",
    "    \n",
    "    Return:\n",
    "    le nombre cumulative de réussites en commençant avec 0 sur les 1000 runs et la proportion de réussites\n",
    "    \"\"\"\n",
    "```\n",
    "\n",
    "Afin de calculer le nombre de piles sur $i$ lancement, il est possible de calculer la somme comulative avec `numpy.cumsum()`."
   ]
  },
  {
   "cell_type": "code",
   "execution_count": 24,
   "id": "42cd466b",
   "metadata": {
    "ExecuteTime": {
     "end_time": "2023-03-13T01:23:14.911283Z",
     "start_time": "2023-03-13T01:23:14.135108Z"
    }
   },
   "outputs": [],
   "source": [
    "import numpy as np # calculs numériques\n",
    "import matplotlib.pyplot as plt # graphiques"
   ]
  },
  {
   "cell_type": "code",
   "execution_count": 25,
   "id": "66f4166b",
   "metadata": {
    "ExecuteTime": {
     "end_time": "2023-03-13T01:23:14.944105Z",
     "start_time": "2023-03-13T01:23:14.915225Z"
    }
   },
   "outputs": [],
   "source": [
    "## Donnez votre code ici\n",
    "def coin_toss(nsimu=1000, p=0.5):\n",
    "    results = [bernoulli(p) for _ in range(nsimu)]\n",
    "    cumsum = np.cumsum(results)\n",
    "    proportions = cumsum / np.arange(1, nsimu + 1)\n",
    "    return proportions"
   ]
  },
  {
   "cell_type": "code",
   "execution_count": 26,
   "id": "4583bd78",
   "metadata": {
    "ExecuteTime": {
     "end_time": "2023-03-13T01:23:15.131634Z",
     "start_time": "2023-03-13T01:23:14.945038Z"
    }
   },
   "outputs": [
    {
     "data": {
      "image/png": "[encoded data removed]",
      "text/plain": [
       "<Figure size 1000x500 with 1 Axes>"
      ]
     },
     "metadata": {},
     "output_type": "display_data"
    }
   ],
   "source": [
    "## Donnez votre code ici\n",
    "# visualisation \n",
    "proba_estimee = coin_toss()\n",
    "\n",
    "plt.figure(figsize=(10, 5))\n",
    "plt.plot(proba_estimee, label=\"Proportion de piles\")\n",
    "plt.axhline(0.5, color='red', linestyle='--', label=\"Probabilité théorique (0.5)\")\n",
    "plt.xlabel(\"Nombre de lancers\")\n",
    "plt.ylabel(\"Proportion cumulée de piles\")\n",
    "plt.title(\"Convergence de la proportion de piles\")\n",
    "plt.legend()\n",
    "plt.grid(True)\n",
    "plt.show()"
   ]
  },
  {
   "cell_type": "markdown",
   "id": "3863ab85",
   "metadata": {
    "ExecuteTime": {
     "end_time": "2023-03-13T00:26:54.438902Z",
     "start_time": "2023-03-13T00:26:54.423918Z"
    }
   },
   "source": [
    "**Conclusions / commentaires :** <span style=\"color:red\">Donnez vos commentaires ici</span>"
   ]
  },
  {
   "cell_type": "markdown",
   "id": "3961a476",
   "metadata": {},
   "source": [
    "On observe que la proportion de piles varie beaucoup au début. Cela semble normal, car avec peu de lancers, chaque nouveau résultat a un grand impact sur la moyenne.\n",
    "\n",
    "À mesure que le nombre de lancers augmente, la courbe devient plus stable.\n",
    "Elle commence à se rapprocher de 0.5, la probabilité théorique d'obtenir pile avec une pièce équilibrée.\n",
    "\n",
    "Cela illustre bien la loi des grands nombres, qui dit que plus on répète une expérience aléatoire, plus la fréquence relative d’un événement tend vers sa probabilité réelle.\n",
    "\n",
    "la ligne horizontale rouge à p = 0.5 permet bien de comparer visuellement la proportion obsrrvée à la valeur attendue."
   ]
  },
  {
   "cell_type": "markdown",
   "id": "03db4342",
   "metadata": {
    "ExecuteTime": {
     "end_time": "2023-03-13T00:28:45.059061Z",
     "start_time": "2023-03-13T00:28:45.037084Z"
    }
   },
   "source": [
    "### Lois continues : Loi Normale Centrée Réduite"
   ]
  },
  {
   "cell_type": "markdown",
   "id": "7cec8cd1",
   "metadata": {},
   "source": [
    "Parmi les lois continues, nous allons nous intéresser au cas de la loi normale centrée réduite, $\\mathcal{N}(0, 1)$ de la fonction de densité $\\varphi(z) = \\frac{e^{-\\frac{z^2}{2}}}{\\sqrt{2\\pi}}$. \n",
    "\n",
    "Dans le but de la simultation, nous allons étudier la [méthode de Box-Muller](https://fr.wikipedia.org/wiki/M%C3%A9thode_de_Box-Muller) : \n",
    "\n",
    "Soient $U_1$ et $U_2$ deux v.a.r. indépendentes qui suivent la loi uniforme. Alors une paire de v.a.r. $Z_1$ et $Z_2$ suivant la loi normale centrée réduite peut être généréé selon la transformation suivante :\n",
    "\n",
    "$$\\left\\{ \\begin{array}{l} Z_1 = \\sqrt{-2 \\ln{U_1}} \\cos(2\\pi U_2) \\\\ Z_2 = \\sqrt{-2 \\ln{U_1}} \\sin(2\\pi U_2) \\end{array} \\right.$$\n",
    "\n",
    "Ecrivez la fonction `loi_normale()` qui génère 2 v.a.r. qui suivent la loi normale centrée réduite avec la méthode de Box-Muller. \n",
    "\n",
    "```\n",
    "def loi_normale():\n",
    "    \"\"\"\n",
    "    Génère deux variables aléatoires suivant la loi normale centrée réduite avec la méthode de Box-Muller.\n",
    "    \n",
    "    Return:\n",
    "    z1, z2 -- deux v.a.r. de la loi normale centrée réduite\n",
    "    \"\"\"\n",
    "```\n",
    "\n",
    "Quelques astuces :\n",
    "- Afin de calculer la racine carré de $x$, nous pouvons utiliser la fonction `math.sqrt(x)`\n",
    "- Afin de calculer log de $x$, nous pouvons utiliser la fonction `math.log(x)`\n",
    "- Le nombre $\\pi$ peut être obtenu comme `math.pi`"
   ]
  },
  {
   "cell_type": "code",
   "execution_count": 27,
   "id": "84a6c0a9",
   "metadata": {
    "ExecuteTime": {
     "end_time": "2023-03-13T01:23:15.147555Z",
     "start_time": "2023-03-13T01:23:15.134597Z"
    }
   },
   "outputs": [],
   "source": [
    "import math"
   ]
  },
  {
   "cell_type": "code",
   "execution_count": 28,
   "id": "dafd10ae",
   "metadata": {
    "ExecuteTime": {
     "end_time": "2023-03-13T01:23:15.162624Z",
     "start_time": "2023-03-13T01:23:15.149477Z"
    }
   },
   "outputs": [],
   "source": [
    "## Donnez votre code ici\n",
    "def loi_normale():\n",
    "    U1 = random()\n",
    "    U2 = random()\n",
    "    z1 = math.sqrt(-2*math.log(U1))*math.cos(2*math.pi*U2)\n",
    "    z2 = math.sqrt(-2*math.log(U1))*math.sin(2*math.pi*U2)\n",
    "    return z1, z2"
   ]
  },
  {
   "cell_type": "markdown",
   "id": "ada0817c",
   "metadata": {},
   "source": [
    "Générez 5000 paires de v.a.r. suivant la loi normale centrée réduite."
   ]
  },
  {
   "cell_type": "code",
   "execution_count": 32,
   "id": "3fec4c43",
   "metadata": {
    "ExecuteTime": {
     "end_time": "2023-03-13T01:23:15.272067Z",
     "start_time": "2023-03-13T01:23:15.168530Z"
    }
   },
   "outputs": [],
   "source": [
    "## Donnez votre code ici\n",
    "liste = []\n",
    "liste_z1 = []\n",
    "for i in range (5000):\n",
    "    res = loi_normale()\n",
    "    liste.append(res)\n",
    "    liste_z1.append(res[0])"
   ]
  },
  {
   "cell_type": "markdown",
   "id": "7e874b95",
   "metadata": {},
   "source": [
    "Visualisez les variables $Z_1$ sous forme d'un histogramme. Tracez la courbe de la loi normale centrée réduite par dessus. Commentez.\n",
    "\n",
    "Quelques astuces :\n",
    "- Afin de créer un histogram, nous pouvons utilisez la fonction [`plt.hist()`](https://matplotlib.org/stable/api/_as_gen/matplotlib.pyplot.hist.html)\n",
    "- Pour que l'histogramme se base sur la fréquence, utilisez l'option `density=True` de `plt.hist()`, e.g. `plt.hist(z1, density=True)`\n",
    "- Avant de tracer la loi normale centrée réduite, vous pouvez créer des valeurs à tracer comme suit :"
   ]
  },
  {
   "cell_type": "code",
   "execution_count": 34,
   "id": "ecdc24e4",
   "metadata": {
    "ExecuteTime": {
     "end_time": "2023-03-13T01:23:15.727779Z",
     "start_time": "2023-03-13T01:23:15.273068Z"
    }
   },
   "outputs": [],
   "source": [
    "from scipy.stats import norm # loi normale centrée réduite\n",
    "mu = 0\n",
    "variance = 1\n",
    "sigma = math.sqrt(variance)\n",
    "x = np.linspace(mu - 4*sigma, mu + 4*sigma, 100)\n",
    "y = norm.pdf(x, mu, sigma) # fonction de densité avec les params mu et sigma"
   ]
  },
  {
   "cell_type": "code",
   "execution_count": 35,
   "id": "db17ede2",
   "metadata": {
    "ExecuteTime": {
     "end_time": "2023-03-13T01:23:16.215763Z",
     "start_time": "2023-03-13T01:23:15.731812Z"
    }
   },
   "outputs": [
    {
     "data": {
      "image/png": "[encoded data removed]",
      "text/plain": [
       "<Figure size 640x480 with 1 Axes>"
      ]
     },
     "metadata": {},
     "output_type": "display_data"
    }
   ],
   "source": [
    "## Donnez votre code ici\n",
    "# visualisation\n",
    "plt.plot(x, y, 'r--', label='Loi normale théorique')\n",
    "plt.hist(liste_z1, bins=50, density=True, alpha=0.6, color='skyblue', label='Histogramme de Z1')\n",
    "plt.title(\"Histogramme de Z1 avec la courbe de la loi normale standard\")\n",
    "plt.xlabel(\"Valeurs de Z1\")\n",
    "plt.ylabel(\"Densité\")\n",
    "plt.legend()\n",
    "plt.grid(True)\n",
    "plt.show()"
   ]
  },
  {
   "cell_type": "markdown",
   "id": "4f2e6f91",
   "metadata": {},
   "source": [
    "**Conclusions / commentaires :** <span style=\"color:red\">Donnez vos commentaires ici</span>"
   ]
  },
  {
   "cell_type": "markdown",
   "id": "e4dbd8e1",
   "metadata": {},
   "source": [
    "Nous observons que l’histogramme présente une forme en cloche symétrique autour de zéro ce qui est caractéristique d’une loi normale centrée réduite. Cela confirme visuellement que les valeurs générées par la méthode de Box-Muller suivent bien une distribution normale.\n",
    "\n",
    "La courbe rouge pointillée rerpésentant la densité théorique de la loi N(0,1), est très proche de l’histogramme obtenu. Cette bonne superposition montre que la méthode génère des valeurs conformes à la loi attendue.\n",
    "\n",
    "\n",
    "De légères irrégularités sont visibles dans les extrémités de l’histogramme, celà est normal avec un échantillon fini. Elles diminueraient avec un nombre plus élevé de simulations.\n",
    "\n",
    "Nous pouvons donc affirmer que le test visuel est concluant : la méthode de Box-Muller est efficace pour simuler des variables aléatoires suivant une loi normale standard"
   ]
  }
 ],
 "metadata": {
  "kernelspec": {
   "display_name": "Python 3 (ipykernel)",
   "language": "python",
   "name": "python3"
  },
  "language_info": {
   "codemirror_mode": {
    "name": "ipython",
    "version": 3
   },
   "file_extension": ".py",
   "mimetype": "text/x-python",
   "name": "python",
   "nbconvert_exporter": "python",
   "pygments_lexer": "ipython3",
   "version": "3.9.13"
  },
  "toc": {
   "base_numbering": 1,
   "nav_menu": {},
   "number_sections": true,
   "sideBar": true,
   "skip_h1_title": false,
   "title_cell": "Table of Contents",
   "title_sidebar": "Contents",
   "toc_cell": false,
   "toc_position": {},
   "toc_section_display": true,
   "toc_window_display": true
  }
 },
 "nbformat": 4,
 "nbformat_minor": 5
}
